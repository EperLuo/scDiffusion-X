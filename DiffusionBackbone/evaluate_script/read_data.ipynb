{
 "cells": [
  {
   "cell_type": "code",
   "execution_count": 2,
   "metadata": {},
   "outputs": [],
   "source": [
    "import numpy as np\n",
    "import pandas as pd\n",
    "import scanpy as sc\n",
    "import anndata as ad\n",
    "import muon as mu\n",
    "from muon import MuData\n",
    "from sklearn.preprocessing import Binarizer\n",
    "import h5py"
   ]
  },
  {
   "cell_type": "code",
   "execution_count": 11,
   "metadata": {},
   "outputs": [
    {
     "data": {
      "text/plain": [
       "Index(['seqname', 'source', 'feature', 'start', 'end', 'score', 'strand',\n",
       "       'frame', 'attribute', 'gene_id', 'gene_type', 'gene_name', 'level',\n",
       "       'tag', 'transcript_id', 'transcript_type', 'transcript_name',\n",
       "       'exon_number', 'exon_id', 'transcript_support_level',\n",
       "       'havana_transcript', 'hgnc_id', 'havana_gene', 'ont', 'protein_id',\n",
       "       'ccdsid', 'artif_dupl'],\n",
       "      dtype='object')"
      ]
     },
     "execution_count": 11,
     "metadata": {},
     "output_type": "execute_result"
    }
   ],
   "source": [
    "hg38.columns"
   ]
  },
  {
   "cell_type": "code",
   "execution_count": 57,
   "metadata": {},
   "outputs": [
    {
     "name": "stderr",
     "output_type": "stream",
     "text": [
      "/home/lep/miniconda3/envs/mm-diffusion/lib/python3.8/site-packages/mudata/_core/mudata.py:578: FutureWarning: In a future version, `df.iloc[:, i] = newvals` will attempt to set the values inplace instead of always setting a new array. To retain the old behavior, use either `df[df.columns[i]] = newvals` or, if columns are non-unique, `df.isetitem(i, newvals)`\n",
      "  data_mod.loc[:, colname] = col\n",
      "/home/lep/miniconda3/envs/mm-diffusion/lib/python3.8/site-packages/mudata/_core/mudata.py:578: FutureWarning: In a future version, `df.iloc[:, i] = newvals` will attempt to set the values inplace instead of always setting a new array. To retain the old behavior, use either `df[df.columns[i]] = newvals` or, if columns are non-unique, `df.isetitem(i, newvals)`\n",
      "  data_mod.loc[:, colname] = col\n",
      "/tmp/ipykernel_1008385/1369190616.py:10: DtypeWarning: Columns (22,25,26) have mixed types. Specify dtype option on import or set low_memory=False.\n",
      "  hg38 = pd.read_csv(hg38_file)\n",
      "/home/lep/miniconda3/envs/mm-diffusion/lib/python3.8/site-packages/mudata/_core/mudata.py:578: FutureWarning: In a future version, `df.iloc[:, i] = newvals` will attempt to set the values inplace instead of always setting a new array. To retain the old behavior, use either `df[df.columns[i]] = newvals` or, if columns are non-unique, `df.isetitem(i, newvals)`\n",
      "  data_mod.loc[:, colname] = col\n",
      "/home/lep/miniconda3/envs/mm-diffusion/lib/python3.8/site-packages/mudata/_core/mudata.py:578: FutureWarning: In a future version, `df.iloc[:, i] = newvals` will attempt to set the values inplace instead of always setting a new array. To retain the old behavior, use either `df[df.columns[i]] = newvals` or, if columns are non-unique, `df.isetitem(i, newvals)`\n",
      "  data_mod.loc[:, colname] = col\n",
      "/home/lep/miniconda3/envs/mm-diffusion/lib/python3.8/site-packages/anndata/_core/anndata.py:1235: SettingWithCopyWarning: \n",
      "A value is trying to be set on a copy of a slice from a DataFrame.\n",
      "Try using .loc[row_indexer,col_indexer] = value instead\n",
      "\n",
      "See the caveats in the documentation: https://pandas.pydata.org/pandas-docs/stable/user_guide/indexing.html#returning-a-view-versus-a-copy\n",
      "  df[key] = c\n"
     ]
    },
    {
     "name": "stdout",
     "output_type": "stream",
     "text": [
      "筛选后的数据已保存到 /stor/lep/diffusion/multiome/openproblem_filtered4perturb.h5mu\n"
     ]
    }
   ],
   "source": [
    "import muon as mu\n",
    "import scanpy as sc\n",
    "import pandas as pd\n",
    "\n",
    "# 1. 加载h5mu文件\n",
    "data = mu.read_h5mu('/stor/lep/diffusion/multiome/openproblem_filtered.h5mu')\n",
    "\n",
    "# 2. 加载基因和peak位置信息\n",
    "hg38_file = \"hg38/gencode_hg38.csv\"  # 替换为你的gencode_hg38.csv文件路径\n",
    "hg38 = pd.read_csv(hg38_file)\n",
    "\n",
    "# 3. 筛选基因：使用HVG（高变基因）\n",
    "# 假设RNA数据存储在data['rna']\n",
    "sc.pp.normalize_total(data['rna'], target_sum=1e4)\n",
    "sc.pp.log1p(data['rna'])\n",
    "\n",
    "sc.pp.highly_variable_genes(data['rna'], n_top_genes=2500)  # 可以调整HVG数量\n",
    "hvg_genes = data['rna'].var[data['rna'].var['highly_variable']].index.tolist()\n",
    "\n",
    "# 4. 筛选peak：根据开放比例（例如选择开放比例>0.1的peak）\n",
    "# 假设ATAC数据存储在data['atac']，且开放比例存储在obs中某列，例如\"open_ratio\"\n",
    "open_ratio_threshold = 0.15\n",
    "data['atac'].var['open_ratio'] = data['atac'].X.toarray().sum(0)/data['atac'].shape[0]\n",
    "open_peaks = data['atac'].var[data['atac'].var['open_ratio'] > open_ratio_threshold].index.tolist()\n",
    "\n",
    "# 5. 读取目标基因列表\n",
    "target_genes = [\"CD3E\", \"CD4\", \"NFKB2\", \"ZAP70\"]  # 替换为你的目标基因列表\n",
    "\n",
    "# 6. 补全目标基因上下游1M长度的peaks\n",
    "def get_gene_region(gene_name, hg38_df, upstream=1e6, downstream=1e6):\n",
    "    gene_info = hg38_df[hg38_df['gene_name'] == gene_name]\n",
    "    if gene_info.empty:\n",
    "        return None\n",
    "    chrom = gene_info.iloc[0]['seqname']\n",
    "    start = max(0, gene_info.iloc[0]['start'] - upstream)\n",
    "    end = gene_info.iloc[0]['end'] + downstream\n",
    "    return chrom, start, end\n",
    "\n",
    "def find_peaks_in_region(chrom, start, end, peaks):\n",
    "    region_peaks = []\n",
    "    for peak in peaks:\n",
    "        peak_chrom, peak_range = peak.split('-')[0], '-'.join(peak.split('-')[1:])\n",
    "        peak_start, peak_end = map(int, peak_range.split('-'))\n",
    "        if peak_chrom == chrom and peak_start < end and peak_end > start:\n",
    "            region_peaks.append(peak)\n",
    "    return region_peaks\n",
    "\n",
    "# 找到所有补全的peaks\n",
    "gene_regions = []\n",
    "for gene in target_genes:\n",
    "    region = get_gene_region(gene, hg38)\n",
    "    if region:\n",
    "        chrom, start, end = region\n",
    "        gene_regions.extend(find_peaks_in_region(chrom, start, end, open_peaks))\n",
    "\n",
    "# 确保目标基因补全的peaks去重\n",
    "final_peaks = list(set(open_peaks + gene_regions))\n",
    "final_genes = list(set(hvg_genes + target_genes))\n",
    "\n",
    "# 7. 更新筛选后的基因和peaks\n",
    "rna = data['rna'][:, final_genes]\n",
    "atac = data['atac'][:, final_peaks]\n",
    "mdata = mu.MuData({'rna':rna,'atac':atac})\n",
    "# 8. 保存处理后的文件\n",
    "output_file = \"/stor/lep/diffusion/multiome/openproblem_filtered4perturb.h5mu\"  # 替换为你的输出路径\n",
    "mdata.write(output_file)\n",
    "\n",
    "print(f\"筛选后的数据已保存到 {output_file}\")\n"
   ]
  },
  {
   "cell_type": "code",
   "execution_count": 58,
   "metadata": {},
   "outputs": [
    {
     "data": {
      "text/html": [
       "<pre>MuData object with n_obs × n_vars = 69249 × 8519\n",
       "  var:\t&#x27;feature_types&#x27;, &#x27;gene_id&#x27;, &#x27;n_cells_by_counts&#x27;, &#x27;mean_counts&#x27;, &#x27;pct_dropout_by_counts&#x27;, &#x27;total_counts&#x27;\n",
       "  2 modalities\n",
       "    rna:\t69249 x 2503\n",
       "      obs:\t&#x27;GEX_pct_counts_mt&#x27;, &#x27;GEX_n_counts&#x27;, &#x27;GEX_n_genes&#x27;, &#x27;GEX_size_factors&#x27;, &#x27;GEX_phase&#x27;, &#x27;ATAC_nCount_peaks&#x27;, &#x27;ATAC_atac_fragments&#x27;, &#x27;ATAC_reads_in_peaks_frac&#x27;, &#x27;ATAC_blacklist_fraction&#x27;, &#x27;ATAC_nucleosome_signal&#x27;, &#x27;cell_type&#x27;, &#x27;batch&#x27;, &#x27;ATAC_pseudotime_order&#x27;, &#x27;GEX_pseudotime_order&#x27;, &#x27;Samplename&#x27;, &#x27;Site&#x27;, &#x27;DonorNumber&#x27;, &#x27;Modality&#x27;, &#x27;VendorLot&#x27;, &#x27;DonorID&#x27;, &#x27;DonorAge&#x27;, &#x27;DonorBMI&#x27;, &#x27;DonorBloodType&#x27;, &#x27;DonorRace&#x27;, &#x27;Ethnicity&#x27;, &#x27;DonorGender&#x27;, &#x27;QCMeds&#x27;, &#x27;DonorSmoker&#x27;, &#x27;GEX_X_umap1&#x27;, &#x27;GEX_X_umap2&#x27;, &#x27;n_genes_by_counts&#x27;, &#x27;total_counts&#x27;, &#x27;total_counts_mt&#x27;, &#x27;pct_counts_mt&#x27;\n",
       "      var:\t&#x27;feature_types&#x27;, &#x27;gene_id&#x27;, &#x27;mt&#x27;, &#x27;n_cells_by_counts&#x27;, &#x27;mean_counts&#x27;, &#x27;pct_dropout_by_counts&#x27;, &#x27;total_counts&#x27;, &#x27;highly_variable&#x27;, &#x27;means&#x27;, &#x27;dispersions&#x27;, &#x27;dispersions_norm&#x27;\n",
       "      uns:\t&#x27;ATAC_gene_activity_var_names&#x27;, &#x27;dataset_id&#x27;, &#x27;genome&#x27;, &#x27;organism&#x27;, &#x27;log1p&#x27;, &#x27;hvg&#x27;\n",
       "      obsm:\t&#x27;ATAC_gene_activity&#x27;, &#x27;ATAC_lsi_full&#x27;, &#x27;ATAC_lsi_red&#x27;, &#x27;ATAC_umap&#x27;, &#x27;GEX_X_pca&#x27;, &#x27;GEX_X_umap&#x27;\n",
       "      layers:\t&#x27;counts&#x27;\n",
       "    atac:\t69249 x 6016\n",
       "      obs:\t&#x27;GEX_pct_counts_mt&#x27;, &#x27;GEX_n_counts&#x27;, &#x27;GEX_n_genes&#x27;, &#x27;GEX_size_factors&#x27;, &#x27;GEX_phase&#x27;, &#x27;ATAC_nCount_peaks&#x27;, &#x27;ATAC_atac_fragments&#x27;, &#x27;ATAC_reads_in_peaks_frac&#x27;, &#x27;ATAC_blacklist_fraction&#x27;, &#x27;ATAC_nucleosome_signal&#x27;, &#x27;cell_type&#x27;, &#x27;batch&#x27;, &#x27;ATAC_pseudotime_order&#x27;, &#x27;GEX_pseudotime_order&#x27;, &#x27;Samplename&#x27;, &#x27;Site&#x27;, &#x27;DonorNumber&#x27;, &#x27;Modality&#x27;, &#x27;VendorLot&#x27;, &#x27;DonorID&#x27;, &#x27;DonorAge&#x27;, &#x27;DonorBMI&#x27;, &#x27;DonorBloodType&#x27;, &#x27;DonorRace&#x27;, &#x27;Ethnicity&#x27;, &#x27;DonorGender&#x27;, &#x27;QCMeds&#x27;, &#x27;DonorSmoker&#x27;, &#x27;ATAC_umap1&#x27;, &#x27;ATAC_umap2&#x27;, &#x27;n_genes_by_counts&#x27;, &#x27;total_counts&#x27;\n",
       "      var:\t&#x27;feature_types&#x27;, &#x27;gene_id&#x27;, &#x27;n_cells_by_counts&#x27;, &#x27;mean_counts&#x27;, &#x27;pct_dropout_by_counts&#x27;, &#x27;total_counts&#x27;, &#x27;open_ratio&#x27;\n",
       "      uns:\t&#x27;ATAC_gene_activity_var_names&#x27;, &#x27;dataset_id&#x27;, &#x27;genome&#x27;, &#x27;organism&#x27;\n",
       "      obsm:\t&#x27;ATAC_gene_activity&#x27;, &#x27;ATAC_lsi_full&#x27;, &#x27;ATAC_lsi_red&#x27;, &#x27;ATAC_umap&#x27;, &#x27;GEX_X_pca&#x27;, &#x27;GEX_X_umap&#x27;\n",
       "      layers:\t&#x27;counts&#x27;</pre>"
      ],
      "text/plain": [
       "MuData object with n_obs × n_vars = 69249 × 8519\n",
       "  var:\t'feature_types', 'gene_id', 'n_cells_by_counts', 'mean_counts', 'pct_dropout_by_counts', 'total_counts'\n",
       "  2 modalities\n",
       "    rna:\t69249 x 2503\n",
       "      obs:\t'GEX_pct_counts_mt', 'GEX_n_counts', 'GEX_n_genes', 'GEX_size_factors', 'GEX_phase', 'ATAC_nCount_peaks', 'ATAC_atac_fragments', 'ATAC_reads_in_peaks_frac', 'ATAC_blacklist_fraction', 'ATAC_nucleosome_signal', 'cell_type', 'batch', 'ATAC_pseudotime_order', 'GEX_pseudotime_order', 'Samplename', 'Site', 'DonorNumber', 'Modality', 'VendorLot', 'DonorID', 'DonorAge', 'DonorBMI', 'DonorBloodType', 'DonorRace', 'Ethnicity', 'DonorGender', 'QCMeds', 'DonorSmoker', 'GEX_X_umap1', 'GEX_X_umap2', 'n_genes_by_counts', 'total_counts', 'total_counts_mt', 'pct_counts_mt'\n",
       "      var:\t'feature_types', 'gene_id', 'mt', 'n_cells_by_counts', 'mean_counts', 'pct_dropout_by_counts', 'total_counts', 'highly_variable', 'means', 'dispersions', 'dispersions_norm'\n",
       "      uns:\t'ATAC_gene_activity_var_names', 'dataset_id', 'genome', 'organism', 'log1p', 'hvg'\n",
       "      obsm:\t'ATAC_gene_activity', 'ATAC_lsi_full', 'ATAC_lsi_red', 'ATAC_umap', 'GEX_X_pca', 'GEX_X_umap'\n",
       "      layers:\t'counts'\n",
       "    atac:\t69249 x 6016\n",
       "      obs:\t'GEX_pct_counts_mt', 'GEX_n_counts', 'GEX_n_genes', 'GEX_size_factors', 'GEX_phase', 'ATAC_nCount_peaks', 'ATAC_atac_fragments', 'ATAC_reads_in_peaks_frac', 'ATAC_blacklist_fraction', 'ATAC_nucleosome_signal', 'cell_type', 'batch', 'ATAC_pseudotime_order', 'GEX_pseudotime_order', 'Samplename', 'Site', 'DonorNumber', 'Modality', 'VendorLot', 'DonorID', 'DonorAge', 'DonorBMI', 'DonorBloodType', 'DonorRace', 'Ethnicity', 'DonorGender', 'QCMeds', 'DonorSmoker', 'ATAC_umap1', 'ATAC_umap2', 'n_genes_by_counts', 'total_counts'\n",
       "      var:\t'feature_types', 'gene_id', 'n_cells_by_counts', 'mean_counts', 'pct_dropout_by_counts', 'total_counts', 'open_ratio'\n",
       "      uns:\t'ATAC_gene_activity_var_names', 'dataset_id', 'genome', 'organism'\n",
       "      obsm:\t'ATAC_gene_activity', 'ATAC_lsi_full', 'ATAC_lsi_red', 'ATAC_umap', 'GEX_X_pca', 'GEX_X_umap'\n",
       "      layers:\t'counts'"
      ]
     },
     "execution_count": 58,
     "metadata": {},
     "output_type": "execute_result"
    }
   ],
   "source": [
    "mdata"
   ]
  },
  {
   "cell_type": "code",
   "execution_count": 3,
   "metadata": {},
   "outputs": [
    {
     "name": "stderr",
     "output_type": "stream",
     "text": [
      "/home/lep/miniconda3/envs/mm-diffusion/lib/python3.8/site-packages/mudata/_core/mudata.py:578: FutureWarning: In a future version, `df.iloc[:, i] = newvals` will attempt to set the values inplace instead of always setting a new array. To retain the old behavior, use either `df[df.columns[i]] = newvals` or, if columns are non-unique, `df.isetitem(i, newvals)`\n",
      "  data_mod.loc[:, colname] = col\n",
      "/home/lep/miniconda3/envs/mm-diffusion/lib/python3.8/site-packages/mudata/_core/mudata.py:578: FutureWarning: In a future version, `df.iloc[:, i] = newvals` will attempt to set the values inplace instead of always setting a new array. To retain the old behavior, use either `df[df.columns[i]] = newvals` or, if columns are non-unique, `df.isetitem(i, newvals)`\n",
      "  data_mod.loc[:, colname] = col\n"
     ]
    }
   ],
   "source": [
    "dataset_path = '/stor/lep/diffusion/multiome/openproblem_filtered.h5mu'\n",
    "mdata = mu.read_h5mu(dataset_path)\n",
    "real_cell2 = mdata['atac'][mdata['atac'].obs['cell_type']=='CD4+ T naive'].X.toarray().mean(0)"
   ]
  },
  {
   "cell_type": "code",
   "execution_count": 4,
   "metadata": {},
   "outputs": [
    {
     "name": "stdout",
     "output_type": "stream",
     "text": [
      "Bedgraph file saved!\n"
     ]
    }
   ],
   "source": [
    "bedgraph_data = []\n",
    "for region, score in zip(mdata['atac'].var_names.values, real_cell2):\n",
    "    chrom, start_end = region.split('-')[0], region.split('-')[1:]\n",
    "    if not chrom.startswith('chr'):\n",
    "        continue\n",
    "    start, end = int(start_end[0]), int(start_end[1])\n",
    "    bedgraph_data.append([chrom, start, end, score])\n",
    "\n",
    "bedgraph_df = pd.DataFrame(bedgraph_data, columns=[\"chrom\", \"start\", \"end\", \"value\"])\n",
    "bedgraph_df.to_csv(\"bigwig_atac/CD4_naive.bedgraph\", sep=\"\\t\", header=False, index=False)\n",
    "\n",
    "print(\"Bedgraph file saved!\")\n",
    "# bedGraphToBigWig Transitional_B.bedgraph hg38.chrom.sizes Transitional_B.bw"
   ]
  },
  {
   "cell_type": "code",
   "execution_count": 2,
   "metadata": {},
   "outputs": [
    {
     "ename": "ValueError",
     "evalue": "The file is not an HDF5 file",
     "output_type": "error",
     "traceback": [
      "\u001b[0;31m---------------------------------------------------------------------------\u001b[0m",
      "\u001b[0;31mValueError\u001b[0m                                Traceback (most recent call last)",
      "Cell \u001b[0;32mIn [2], line 1\u001b[0m\n\u001b[0;32m----> 1\u001b[0m mdata1 \u001b[38;5;241m=\u001b[39m \u001b[43mmu\u001b[49m\u001b[38;5;241;43m.\u001b[39;49m\u001b[43mread_h5mu\u001b[49m\u001b[43m(\u001b[49m\u001b[38;5;124;43m'\u001b[39;49m\u001b[38;5;124;43m/stor/lep/data/BABEL/train.h5mu\u001b[39;49m\u001b[38;5;124;43m'\u001b[39;49m\u001b[43m)\u001b[49m\n\u001b[1;32m      2\u001b[0m mdata1\n",
      "File \u001b[0;32m~/miniconda3/envs/mm-diffusion/lib/python3.8/site-packages/mudata/_core/io.py:369\u001b[0m, in \u001b[0;36mread_h5mu\u001b[0;34m(filename, backed)\u001b[0m\n\u001b[1;32m    365\u001b[0m         warn(\n\u001b[1;32m    366\u001b[0m             \u001b[38;5;124m\"\u001b[39m\u001b[38;5;124mThe HDF5 file was not created by muon, we can\u001b[39m\u001b[38;5;124m'\u001b[39m\u001b[38;5;124mt guarantee that everything will work correctly\u001b[39m\u001b[38;5;124m\"\u001b[39m\n\u001b[1;32m    367\u001b[0m         )\n\u001b[1;32m    368\u001b[0m     \u001b[38;5;28;01melse\u001b[39;00m:\n\u001b[0;32m--> 369\u001b[0m         \u001b[38;5;28;01mraise\u001b[39;00m \u001b[38;5;167;01mValueError\u001b[39;00m(\u001b[38;5;124m\"\u001b[39m\u001b[38;5;124mThe file is not an HDF5 file\u001b[39m\u001b[38;5;124m\"\u001b[39m)\n\u001b[1;32m    371\u001b[0m \u001b[38;5;28;01mwith\u001b[39;00m h5py\u001b[38;5;241m.\u001b[39mFile(filename, mode) \u001b[38;5;28;01mas\u001b[39;00m f:\n\u001b[1;32m    372\u001b[0m     d \u001b[38;5;241m=\u001b[39m {}\n",
      "\u001b[0;31mValueError\u001b[0m: The file is not an HDF5 file"
     ]
    }
   ],
   "source": [
    "mdata1 = mu.read_h5mu('/stor/lep/data/BABEL/train.h5mu')\n",
    "mdata1"
   ]
  },
  {
   "cell_type": "code",
   "execution_count": 14,
   "metadata": {},
   "outputs": [
    {
     "name": "stderr",
     "output_type": "stream",
     "text": [
      "/home/lep/miniconda3/envs/mm-diffusion/lib/python3.8/site-packages/mudata/_core/mudata.py:578: FutureWarning: In a future version, `df.iloc[:, i] = newvals` will attempt to set the values inplace instead of always setting a new array. To retain the old behavior, use either `df[df.columns[i]] = newvals` or, if columns are non-unique, `df.isetitem(i, newvals)`\n",
      "  data_mod.loc[:, colname] = col\n",
      "/home/lep/miniconda3/envs/mm-diffusion/lib/python3.8/site-packages/mudata/_core/mudata.py:578: FutureWarning: In a future version, `df.iloc[:, i] = newvals` will attempt to set the values inplace instead of always setting a new array. To retain the old behavior, use either `df[df.columns[i]] = newvals` or, if columns are non-unique, `df.isetitem(i, newvals)`\n",
      "  data_mod.loc[:, colname] = col\n"
     ]
    },
    {
     "data": {
      "text/html": [
       "<pre>MuData object with n_obs × n_vars = 2901 × 258758\n",
       "  var:\t&#x27;chrom&#x27;, &#x27;n_counts&#x27;, &#x27;log1p_counts&#x27;, &#x27;n_cells&#x27;\n",
       "  2 modalities\n",
       "    rna:\t2901 x 34861\n",
       "      obs:\t&#x27;batch&#x27;, &#x27;source_file&#x27;, &#x27;n_counts&#x27;, &#x27;log1p_counts&#x27;, &#x27;n_genes&#x27;, &#x27;size_factors&#x27;, &#x27;leiden&#x27;, &#x27;louvain&#x27;\n",
       "      var:\t&#x27;gene_ids&#x27;, &#x27;feature_types&#x27;, &#x27;genome&#x27;, &#x27;chrom&#x27;, &#x27;n_counts&#x27;, &#x27;log1p_counts&#x27;, &#x27;n_cells&#x27;\n",
       "      uns:\t&#x27;median_counts&#x27;\n",
       "      layers:\t&#x27;row_counts&#x27;\n",
       "    atac:\t2901 x 223897\n",
       "      obs:\t&#x27;batch&#x27;, &#x27;source_file&#x27;, &#x27;n_counts&#x27;, &#x27;log1p_counts&#x27;, &#x27;n_genes&#x27;, &#x27;size_factors&#x27;, &#x27;leiden&#x27;, &#x27;louvain&#x27;\n",
       "      var:\t&#x27;chrom&#x27;, &#x27;n_counts&#x27;, &#x27;log1p_counts&#x27;, &#x27;n_cells&#x27;\n",
       "      uns:\t&#x27;median_counts&#x27;\n",
       "      layers:\t&#x27;row_counts&#x27;</pre>"
      ],
      "text/plain": [
       "MuData object with n_obs × n_vars = 2901 × 258758\n",
       "  var:\t'chrom', 'n_counts', 'log1p_counts', 'n_cells'\n",
       "  2 modalities\n",
       "    rna:\t2901 x 34861\n",
       "      obs:\t'batch', 'source_file', 'n_counts', 'log1p_counts', 'n_genes', 'size_factors', 'leiden', 'louvain'\n",
       "      var:\t'gene_ids', 'feature_types', 'genome', 'chrom', 'n_counts', 'log1p_counts', 'n_cells'\n",
       "      uns:\t'median_counts'\n",
       "      layers:\t'row_counts'\n",
       "    atac:\t2901 x 223897\n",
       "      obs:\t'batch', 'source_file', 'n_counts', 'log1p_counts', 'n_genes', 'size_factors', 'leiden', 'louvain'\n",
       "      var:\t'chrom', 'n_counts', 'log1p_counts', 'n_cells'\n",
       "      uns:\t'median_counts'\n",
       "      layers:\t'row_counts'"
      ]
     },
     "execution_count": 14,
     "metadata": {},
     "output_type": "execute_result"
    }
   ],
   "source": [
    "mdata2 = mu.read_h5mu('/stor/lep/data/BABEL/valid.h5mu')\n",
    "mdata2"
   ]
  },
  {
   "cell_type": "code",
   "execution_count": 15,
   "metadata": {},
   "outputs": [
    {
     "name": "stderr",
     "output_type": "stream",
     "text": [
      "/home/lep/miniconda3/envs/mm-diffusion/lib/python3.8/site-packages/mudata/_core/mudata.py:578: FutureWarning: In a future version, `df.iloc[:, i] = newvals` will attempt to set the values inplace instead of always setting a new array. To retain the old behavior, use either `df[df.columns[i]] = newvals` or, if columns are non-unique, `df.isetitem(i, newvals)`\n",
      "  data_mod.loc[:, colname] = col\n",
      "/home/lep/miniconda3/envs/mm-diffusion/lib/python3.8/site-packages/mudata/_core/mudata.py:578: FutureWarning: In a future version, `df.iloc[:, i] = newvals` will attempt to set the values inplace instead of always setting a new array. To retain the old behavior, use either `df[df.columns[i]] = newvals` or, if columns are non-unique, `df.isetitem(i, newvals)`\n",
      "  data_mod.loc[:, colname] = col\n"
     ]
    },
    {
     "data": {
      "text/html": [
       "<pre>MuData object with n_obs × n_vars = 2004 × 258758\n",
       "  var:\t&#x27;chrom&#x27;, &#x27;n_counts&#x27;, &#x27;log1p_counts&#x27;, &#x27;n_cells&#x27;\n",
       "  2 modalities\n",
       "    rna:\t2004 x 34861\n",
       "      obs:\t&#x27;batch&#x27;, &#x27;source_file&#x27;, &#x27;n_counts&#x27;, &#x27;log1p_counts&#x27;, &#x27;n_genes&#x27;, &#x27;size_factors&#x27;, &#x27;leiden&#x27;, &#x27;louvain&#x27;\n",
       "      var:\t&#x27;gene_ids&#x27;, &#x27;feature_types&#x27;, &#x27;genome&#x27;, &#x27;chrom&#x27;, &#x27;n_counts&#x27;, &#x27;log1p_counts&#x27;, &#x27;n_cells&#x27;\n",
       "      uns:\t&#x27;median_counts&#x27;\n",
       "      layers:\t&#x27;row_counts&#x27;\n",
       "    atac:\t2004 x 223897\n",
       "      obs:\t&#x27;batch&#x27;, &#x27;source_file&#x27;, &#x27;n_counts&#x27;, &#x27;log1p_counts&#x27;, &#x27;n_genes&#x27;, &#x27;size_factors&#x27;, &#x27;leiden&#x27;, &#x27;louvain&#x27;\n",
       "      var:\t&#x27;chrom&#x27;, &#x27;n_counts&#x27;, &#x27;log1p_counts&#x27;, &#x27;n_cells&#x27;\n",
       "      uns:\t&#x27;median_counts&#x27;\n",
       "      layers:\t&#x27;row_counts&#x27;</pre>"
      ],
      "text/plain": [
       "MuData object with n_obs × n_vars = 2004 × 258758\n",
       "  var:\t'chrom', 'n_counts', 'log1p_counts', 'n_cells'\n",
       "  2 modalities\n",
       "    rna:\t2004 x 34861\n",
       "      obs:\t'batch', 'source_file', 'n_counts', 'log1p_counts', 'n_genes', 'size_factors', 'leiden', 'louvain'\n",
       "      var:\t'gene_ids', 'feature_types', 'genome', 'chrom', 'n_counts', 'log1p_counts', 'n_cells'\n",
       "      uns:\t'median_counts'\n",
       "      layers:\t'row_counts'\n",
       "    atac:\t2004 x 223897\n",
       "      obs:\t'batch', 'source_file', 'n_counts', 'log1p_counts', 'n_genes', 'size_factors', 'leiden', 'louvain'\n",
       "      var:\t'chrom', 'n_counts', 'log1p_counts', 'n_cells'\n",
       "      uns:\t'median_counts'\n",
       "      layers:\t'row_counts'"
      ]
     },
     "execution_count": 15,
     "metadata": {},
     "output_type": "execute_result"
    }
   ],
   "source": [
    "mdata3 = mu.read_h5mu('/stor/lep/data/BABEL/test.h5mu')\n",
    "mdata3"
   ]
  },
  {
   "cell_type": "code",
   "execution_count": 16,
   "metadata": {},
   "outputs": [
    {
     "name": "stderr",
     "output_type": "stream",
     "text": [
      "/home/lep/miniconda3/envs/mm-diffusion/lib/python3.8/site-packages/mudata/_core/mudata.py:578: FutureWarning: In a future version, `df.iloc[:, i] = newvals` will attempt to set the values inplace instead of always setting a new array. To retain the old behavior, use either `df[df.columns[i]] = newvals` or, if columns are non-unique, `df.isetitem(i, newvals)`\n",
      "  data_mod.loc[:, colname] = col\n",
      "/home/lep/miniconda3/envs/mm-diffusion/lib/python3.8/site-packages/mudata/_core/mudata.py:578: FutureWarning: In a future version, `df.iloc[:, i] = newvals` will attempt to set the values inplace instead of always setting a new array. To retain the old behavior, use either `df[df.columns[i]] = newvals` or, if columns are non-unique, `df.isetitem(i, newvals)`\n",
      "  data_mod.loc[:, colname] = col\n"
     ]
    },
    {
     "data": {
      "text/html": [
       "<pre>MuData object with n_obs × n_vars = 31264 × 258758\n",
       "  2 modalities\n",
       "    rna:\t31264 x 34861\n",
       "      obs:\t&#x27;batch&#x27;, &#x27;source_file&#x27;, &#x27;n_counts&#x27;, &#x27;log1p_counts&#x27;, &#x27;n_genes&#x27;, &#x27;size_factors&#x27;, &#x27;leiden&#x27;, &#x27;louvain&#x27;, &#x27;split&#x27;\n",
       "      layers:\t&#x27;row_counts&#x27;\n",
       "    atac:\t31264 x 223897\n",
       "      obs:\t&#x27;batch&#x27;, &#x27;source_file&#x27;, &#x27;n_counts&#x27;, &#x27;log1p_counts&#x27;, &#x27;n_genes&#x27;, &#x27;size_factors&#x27;, &#x27;leiden&#x27;, &#x27;louvain&#x27;, &#x27;split&#x27;\n",
       "      layers:\t&#x27;row_counts&#x27;</pre>"
      ],
      "text/plain": [
       "MuData object with n_obs × n_vars = 31264 × 258758\n",
       "  2 modalities\n",
       "    rna:\t31264 x 34861\n",
       "      obs:\t'batch', 'source_file', 'n_counts', 'log1p_counts', 'n_genes', 'size_factors', 'leiden', 'louvain', 'split'\n",
       "      layers:\t'row_counts'\n",
       "    atac:\t31264 x 223897\n",
       "      obs:\t'batch', 'source_file', 'n_counts', 'log1p_counts', 'n_genes', 'size_factors', 'leiden', 'louvain', 'split'\n",
       "      layers:\t'row_counts'"
      ]
     },
     "execution_count": 16,
     "metadata": {},
     "output_type": "execute_result"
    }
   ],
   "source": [
    "mdata4 = mu.read_h5mu('/stor/lep/data/BABEL/all.h5mu')\n",
    "mdata4"
   ]
  },
  {
   "cell_type": "code",
   "execution_count": 9,
   "metadata": {},
   "outputs": [
    {
     "name": "stderr",
     "output_type": "stream",
     "text": [
      "/home/lep/miniconda3/envs/mm-diffusion/lib/python3.8/site-packages/mudata/_core/mudata.py:578: FutureWarning: In a future version, `df.iloc[:, i] = newvals` will attempt to set the values inplace instead of always setting a new array. To retain the old behavior, use either `df[df.columns[i]] = newvals` or, if columns are non-unique, `df.isetitem(i, newvals)`\n",
      "  data_mod.loc[:, colname] = col\n",
      "/home/lep/miniconda3/envs/mm-diffusion/lib/python3.8/site-packages/mudata/_core/mudata.py:578: FutureWarning: In a future version, `df.iloc[:, i] = newvals` will attempt to set the values inplace instead of always setting a new array. To retain the old behavior, use either `df[df.columns[i]] = newvals` or, if columns are non-unique, `df.isetitem(i, newvals)`\n",
      "  data_mod.loc[:, colname] = col\n"
     ]
    },
    {
     "data": {
      "text/html": [
       "<pre>MuData object with n_obs × n_vars = 8000 × 65690\n",
       "  2 modalities\n",
       "    rna:\t8000 x 25604\n",
       "      obs:\t&#x27;cell_type&#x27;, &#x27;n_genes&#x27;, &#x27;n_genes_by_counts&#x27;, &#x27;log1p_n_genes_by_counts&#x27;, &#x27;total_counts&#x27;, &#x27;log1p_total_counts&#x27;, &#x27;total_counts_mt&#x27;, &#x27;log1p_total_counts_mt&#x27;, &#x27;pct_counts_mt&#x27;\n",
       "      var:\t&#x27;gene_ids&#x27;, &#x27;feature_types&#x27;, &#x27;genome&#x27;, &#x27;n_cells&#x27;, &#x27;mt&#x27;, &#x27;n_cells_by_counts&#x27;, &#x27;mean_counts&#x27;, &#x27;log1p_mean_counts&#x27;, &#x27;pct_dropout_by_counts&#x27;, &#x27;total_counts&#x27;, &#x27;log1p_total_counts&#x27;\n",
       "      uns:\t&#x27;cell_type_colors&#x27;, &#x27;neighbors&#x27;, &#x27;pca&#x27;, &#x27;umap&#x27;\n",
       "      obsm:\t&#x27;X_pca&#x27;, &#x27;X_umap&#x27;\n",
       "      varm:\t&#x27;PCs&#x27;\n",
       "      layers:\t&#x27;X_counts&#x27;, &#x27;count&#x27;\n",
       "      obsp:\t&#x27;connectivities&#x27;, &#x27;distances&#x27;\n",
       "    atac:\t8000 x 40086\n",
       "      obs:\t&#x27;cell_type&#x27;\n",
       "      uns:\t&#x27;cell_type_colors&#x27;, &#x27;neighbors&#x27;, &#x27;pca&#x27;, &#x27;umap&#x27;\n",
       "      obsm:\t&#x27;X_pca&#x27;, &#x27;X_umap&#x27;\n",
       "      varm:\t&#x27;PCs&#x27;\n",
       "      layers:\t&#x27;X_counts&#x27;, &#x27;cpm_norm&#x27;, &#x27;tf-idf&#x27;\n",
       "      obsp:\t&#x27;connectivities&#x27;, &#x27;distances&#x27;</pre>"
      ],
      "text/plain": [
       "MuData object with n_obs × n_vars = 8000 × 65690\n",
       "  2 modalities\n",
       "    rna:\t8000 x 25604\n",
       "      obs:\t'cell_type', 'n_genes', 'n_genes_by_counts', 'log1p_n_genes_by_counts', 'total_counts', 'log1p_total_counts', 'total_counts_mt', 'log1p_total_counts_mt', 'pct_counts_mt'\n",
       "      var:\t'gene_ids', 'feature_types', 'genome', 'n_cells', 'mt', 'n_cells_by_counts', 'mean_counts', 'log1p_mean_counts', 'pct_dropout_by_counts', 'total_counts', 'log1p_total_counts'\n",
       "      uns:\t'cell_type_colors', 'neighbors', 'pca', 'umap'\n",
       "      obsm:\t'X_pca', 'X_umap'\n",
       "      varm:\t'PCs'\n",
       "      layers:\t'X_counts', 'count'\n",
       "      obsp:\t'connectivities', 'distances'\n",
       "    atac:\t8000 x 40086\n",
       "      obs:\t'cell_type'\n",
       "      uns:\t'cell_type_colors', 'neighbors', 'pca', 'umap'\n",
       "      obsm:\t'X_pca', 'X_umap'\n",
       "      varm:\t'PCs'\n",
       "      layers:\t'X_counts', 'cpm_norm', 'tf-idf'\n",
       "      obsp:\t'connectivities', 'distances'"
      ]
     },
     "execution_count": 9,
     "metadata": {},
     "output_type": "execute_result"
    }
   ],
   "source": [
    "mdata = mu.read_h5mu('/stor/lep/data/pbmc10k_multiome/cfgen/pbmc10k_multiome_train.h5mu')\n",
    "\n",
    "# rna = mdata['rna']\n",
    "# atac = mdata['atac']\n",
    "\n",
    "# rna.write_h5ad('/stor/lep/data/pbmc10k_multiome/cfgen/pbmc10k_multiome_train_rna.h5ad')\n",
    "# atac.write_h5ad('/stor/lep/data/pbmc10k_multiome/cfgen/pbmc10k_multiome_train_atac.h5ad')\n",
    "mdata"
   ]
  },
  {
   "cell_type": "code",
   "execution_count": 10,
   "metadata": {},
   "outputs": [
    {
     "name": "stderr",
     "output_type": "stream",
     "text": [
      "/home/lep/miniconda3/envs/mm-diffusion/lib/python3.8/site-packages/mudata/_core/mudata.py:578: FutureWarning: In a future version, `df.iloc[:, i] = newvals` will attempt to set the values inplace instead of always setting a new array. To retain the old behavior, use either `df[df.columns[i]] = newvals` or, if columns are non-unique, `df.isetitem(i, newvals)`\n",
      "  data_mod.loc[:, colname] = col\n",
      "/home/lep/miniconda3/envs/mm-diffusion/lib/python3.8/site-packages/mudata/_core/mudata.py:578: FutureWarning: In a future version, `df.iloc[:, i] = newvals` will attempt to set the values inplace instead of always setting a new array. To retain the old behavior, use either `df[df.columns[i]] = newvals` or, if columns are non-unique, `df.isetitem(i, newvals)`\n",
      "  data_mod.loc[:, colname] = col\n",
      "/home/lep/miniconda3/envs/mm-diffusion/lib/python3.8/site-packages/mudata/_core/mudata.py:578: FutureWarning: In a future version, `df.iloc[:, i] = newvals` will attempt to set the values inplace instead of always setting a new array. To retain the old behavior, use either `df[df.columns[i]] = newvals` or, if columns are non-unique, `df.isetitem(i, newvals)`\n",
      "  data_mod.loc[:, colname] = col\n",
      "/home/lep/miniconda3/envs/mm-diffusion/lib/python3.8/site-packages/mudata/_core/mudata.py:578: FutureWarning: In a future version, `df.iloc[:, i] = newvals` will attempt to set the values inplace instead of always setting a new array. To retain the old behavior, use either `df[df.columns[i]] = newvals` or, if columns are non-unique, `df.isetitem(i, newvals)`\n",
      "  data_mod.loc[:, colname] = col\n",
      "/home/lep/miniconda3/envs/mm-diffusion/lib/python3.8/site-packages/mudata/_core/mudata.py:578: FutureWarning: In a future version, `df.iloc[:, i] = newvals` will attempt to set the values inplace instead of always setting a new array. To retain the old behavior, use either `df[df.columns[i]] = newvals` or, if columns are non-unique, `df.isetitem(i, newvals)`\n",
      "  data_mod.loc[:, colname] = col\n",
      "/home/lep/miniconda3/envs/mm-diffusion/lib/python3.8/site-packages/mudata/_core/mudata.py:578: FutureWarning: In a future version, `df.iloc[:, i] = newvals` will attempt to set the values inplace instead of always setting a new array. To retain the old behavior, use either `df[df.columns[i]] = newvals` or, if columns are non-unique, `df.isetitem(i, newvals)`\n",
      "  data_mod.loc[:, colname] = col\n"
     ]
    },
    {
     "data": {
      "text/html": [
       "<pre>MuData object with n_obs × n_vars = 10000 × 65690\n",
       "  2 modalities\n",
       "    rna:\t10000 x 25604\n",
       "      obs:\t&#x27;cell_type&#x27;, &#x27;n_genes&#x27;, &#x27;n_genes_by_counts&#x27;, &#x27;log1p_n_genes_by_counts&#x27;, &#x27;total_counts&#x27;, &#x27;log1p_total_counts&#x27;, &#x27;total_counts_mt&#x27;, &#x27;log1p_total_counts_mt&#x27;, &#x27;pct_counts_mt&#x27;\n",
       "      obsm:\t&#x27;X_pca&#x27;, &#x27;X_umap&#x27;\n",
       "      layers:\t&#x27;X_counts&#x27;, &#x27;count&#x27;\n",
       "    atac:\t10000 x 40086\n",
       "      obs:\t&#x27;cell_type&#x27;\n",
       "      obsm:\t&#x27;X_pca&#x27;, &#x27;X_umap&#x27;\n",
       "      layers:\t&#x27;X_counts&#x27;, &#x27;cpm_norm&#x27;, &#x27;tf-idf&#x27;</pre>"
      ],
      "text/plain": [
       "MuData object with n_obs × n_vars = 10000 × 65690\n",
       "  2 modalities\n",
       "    rna:\t10000 x 25604\n",
       "      obs:\t'cell_type', 'n_genes', 'n_genes_by_counts', 'log1p_n_genes_by_counts', 'total_counts', 'log1p_total_counts', 'total_counts_mt', 'log1p_total_counts_mt', 'pct_counts_mt'\n",
       "      obsm:\t'X_pca', 'X_umap'\n",
       "      layers:\t'X_counts', 'count'\n",
       "    atac:\t10000 x 40086\n",
       "      obs:\t'cell_type'\n",
       "      obsm:\t'X_pca', 'X_umap'\n",
       "      layers:\t'X_counts', 'cpm_norm', 'tf-idf'"
      ]
     },
     "execution_count": 10,
     "metadata": {},
     "output_type": "execute_result"
    }
   ],
   "source": [
    "mdata1 = mu.read_h5mu('/stor/lep/data/pbmc10k_multiome/cfgen/pbmc10k_multiome_train.h5mu')\n",
    "mdata2 = mu.read_h5mu('/stor/lep/data/pbmc10k_multiome/cfgen/pbmc10k_multiome_test.h5mu')\n",
    "\n",
    "rna = ad.concat([mdata1['rna'],mdata2['rna']])\n",
    "atac = ad.concat([mdata1['atac'],mdata2['atac']])\n",
    "mdata = MuData({'rna':rna,'atac':atac})\n",
    "mdata"
   ]
  },
  {
   "cell_type": "code",
   "execution_count": 12,
   "metadata": {},
   "outputs": [],
   "source": [
    "mdata.write_h5mu('/stor/lep/data/pbmc10k_multiome/cfgen/pbmc10k_multiome_all.h5mu')"
   ]
  },
  {
   "cell_type": "code",
   "execution_count": 63,
   "metadata": {},
   "outputs": [
    {
     "name": "stderr",
     "output_type": "stream",
     "text": [
      "/home/lep/miniconda3/envs/mm-diffusion/lib/python3.8/site-packages/anndata/_core/merge.py:942: UserWarning: Only some AnnData objects have `.raw` attribute, not concatenating `.raw` attributes.\n",
      "  warn(\n"
     ]
    },
    {
     "data": {
      "text/plain": [
       "AnnData object with n_obs × n_vars = 2901 × 258758\n",
       "    var: 'chrom', 'n_counts', 'log1p_counts', 'n_cells'"
      ]
     },
     "execution_count": 63,
     "metadata": {},
     "output_type": "execute_result"
    }
   ],
   "source": [
    "adata1 = sc.read_h5ad('/stor/lep/workspace/multi_diffusion/my_model/valid_rna.h5ad')\n",
    "adata1.X = adata1.layers['row_counts']\n",
    "del adata1.layers['row_counts']\n",
    "\n",
    "adata2 = sc.read_h5ad('/stor/lep/workspace/multi_diffusion/my_model/valid_atac.h5ad')\n",
    "adata2.X = adata2.layers['row_counts']\n",
    "del adata2.layers['row_counts']\n",
    "\n",
    "adata = ad.concat((adata1,adata2),axis=1)\n",
    "adata.var['feature_types'] = \n",
    "adata"
   ]
  },
  {
   "cell_type": "code",
   "execution_count": 60,
   "metadata": {},
   "outputs": [
    {
     "ename": "TypeError",
     "evalue": "Incompatible object (Dataset) already exists",
     "output_type": "error",
     "traceback": [
      "\u001b[0;31m---------------------------------------------------------------------------\u001b[0m",
      "\u001b[0;31mTypeError\u001b[0m                                 Traceback (most recent call last)",
      "Cell \u001b[0;32mIn [60], line 47\u001b[0m\n\u001b[1;32m     44\u001b[0m gene_attrs \u001b[38;5;241m=\u001b[39m adata\u001b[38;5;241m.\u001b[39mvar\u001b[38;5;241m.\u001b[39mto_dict(\u001b[38;5;124m'\u001b[39m\u001b[38;5;124mlist\u001b[39m\u001b[38;5;124m'\u001b[39m)\n\u001b[1;32m     45\u001b[0m \u001b[38;5;28;01mfor\u001b[39;00m attr_name, attr_values \u001b[38;5;129;01min\u001b[39;00m gene_attrs\u001b[38;5;241m.\u001b[39mitems():\n\u001b[1;32m     46\u001b[0m     \u001b[38;5;66;03m# 创建一个数据集来存储属性值\u001b[39;00m\n\u001b[0;32m---> 47\u001b[0m     dset_attr \u001b[38;5;241m=\u001b[39m \u001b[43mgroup\u001b[49m\u001b[38;5;241;43m.\u001b[39;49m\u001b[43mcreate_dataset\u001b[49m\u001b[43m(\u001b[49m\u001b[38;5;124;43mf\u001b[39;49m\u001b[38;5;124;43m'\u001b[39;49m\u001b[38;5;124;43mgenes/\u001b[39;49m\u001b[38;5;132;43;01m{\u001b[39;49;00m\u001b[43mattr_name\u001b[49m\u001b[38;5;132;43;01m}\u001b[39;49;00m\u001b[38;5;124;43m'\u001b[39;49m\u001b[43m,\u001b[49m\u001b[43m \u001b[49m\u001b[43m(\u001b[49m\u001b[38;5;28;43mlen\u001b[39;49m\u001b[43m(\u001b[49m\u001b[43mattr_values\u001b[49m\u001b[43m)\u001b[49m\u001b[43m,\u001b[49m\u001b[43m)\u001b[49m\u001b[43m,\u001b[49m\u001b[43m \u001b[49m\u001b[43mdtype\u001b[49m\u001b[38;5;241;43m=\u001b[39;49m\u001b[43mh5py\u001b[49m\u001b[38;5;241;43m.\u001b[39;49m\u001b[43mstring_dtype\u001b[49m\u001b[43m(\u001b[49m\u001b[43m)\u001b[49m\u001b[43m)\u001b[49m\n\u001b[1;32m     48\u001b[0m     dset_attr[:] \u001b[38;5;241m=\u001b[39m attr_values\n\u001b[1;32m     50\u001b[0m \u001b[38;5;66;03m# 存储细胞注释\u001b[39;00m\n",
      "File \u001b[0;32m~/miniconda3/envs/mm-diffusion/lib/python3.8/site-packages/h5py/_hl/group.py:159\u001b[0m, in \u001b[0;36mGroup.create_dataset\u001b[0;34m(self, name, shape, dtype, data, **kwds)\u001b[0m\n\u001b[1;32m    157\u001b[0m     \u001b[38;5;28;01mif\u001b[39;00m \u001b[38;5;124mb\u001b[39m\u001b[38;5;124m'\u001b[39m\u001b[38;5;124m/\u001b[39m\u001b[38;5;124m'\u001b[39m \u001b[38;5;129;01min\u001b[39;00m name\u001b[38;5;241m.\u001b[39mlstrip(\u001b[38;5;124mb\u001b[39m\u001b[38;5;124m'\u001b[39m\u001b[38;5;124m/\u001b[39m\u001b[38;5;124m'\u001b[39m):\n\u001b[1;32m    158\u001b[0m         parent_path, name \u001b[38;5;241m=\u001b[39m name\u001b[38;5;241m.\u001b[39mrsplit(\u001b[38;5;124mb\u001b[39m\u001b[38;5;124m'\u001b[39m\u001b[38;5;124m/\u001b[39m\u001b[38;5;124m'\u001b[39m, \u001b[38;5;241m1\u001b[39m)\n\u001b[0;32m--> 159\u001b[0m         group \u001b[38;5;241m=\u001b[39m \u001b[38;5;28;43mself\u001b[39;49m\u001b[38;5;241;43m.\u001b[39;49m\u001b[43mrequire_group\u001b[49m\u001b[43m(\u001b[49m\u001b[43mparent_path\u001b[49m\u001b[43m)\u001b[49m\n\u001b[1;32m    161\u001b[0m dsid \u001b[38;5;241m=\u001b[39m dataset\u001b[38;5;241m.\u001b[39mmake_new_dset(group, shape, dtype, data, name, \u001b[38;5;241m*\u001b[39m\u001b[38;5;241m*\u001b[39mkwds)\n\u001b[1;32m    162\u001b[0m dset \u001b[38;5;241m=\u001b[39m dataset\u001b[38;5;241m.\u001b[39mDataset(dsid)\n",
      "File \u001b[0;32m~/miniconda3/envs/mm-diffusion/lib/python3.8/site-packages/h5py/_hl/group.py:316\u001b[0m, in \u001b[0;36mGroup.require_group\u001b[0;34m(self, name)\u001b[0m\n\u001b[1;32m    314\u001b[0m grp \u001b[38;5;241m=\u001b[39m \u001b[38;5;28mself\u001b[39m[name]\n\u001b[1;32m    315\u001b[0m \u001b[38;5;28;01mif\u001b[39;00m \u001b[38;5;129;01mnot\u001b[39;00m \u001b[38;5;28misinstance\u001b[39m(grp, Group):\n\u001b[0;32m--> 316\u001b[0m     \u001b[38;5;28;01mraise\u001b[39;00m \u001b[38;5;167;01mTypeError\u001b[39;00m(\u001b[38;5;124m\"\u001b[39m\u001b[38;5;124mIncompatible object (\u001b[39m\u001b[38;5;132;01m%s\u001b[39;00m\u001b[38;5;124m) already exists\u001b[39m\u001b[38;5;124m\"\u001b[39m \u001b[38;5;241m%\u001b[39m grp\u001b[38;5;241m.\u001b[39m\u001b[38;5;18m__class__\u001b[39m\u001b[38;5;241m.\u001b[39m\u001b[38;5;18m__name__\u001b[39m)\n\u001b[1;32m    317\u001b[0m \u001b[38;5;28;01mreturn\u001b[39;00m grp\n",
      "\u001b[0;31mTypeError\u001b[0m: Incompatible object (Dataset) already exists"
     ]
    }
   ],
   "source": [
    "adata1 = sc.read_h5ad('/stor/lep/workspace/multi_diffusion/my_model/valid_atac.h5ad')\n",
    "adata1.X = adata1.layers['row_counts']\n",
    "del adata1.layers['row_counts']\n",
    "\n",
    "adata2 = sc.read_h5ad('/stor/lep/workspace/multi_diffusion/my_model/valid_rna.h5ad')\n",
    "adata2.X = adata2.layers['row_counts']\n",
    "del adata2.layers['row_counts']\n",
    "\n",
    "adata = ad.concat((adata1,adata2))\n",
    "\n",
    "# 获取数据\n",
    "X = adata.X\n",
    "barcode = adata.obs.index.values\n",
    "gene = adata.var.index.values\n",
    "\n",
    "# 创建一个新的HDF5文件\n",
    "with h5py.File('/stor/lep/workspace/multi_diffusion/my_model/valid_atac.h5', 'w') as f:\n",
    "    # 创建一个组用于存放数据\n",
    "    group = f.create_group('matrix')\n",
    "    \n",
    "    # 存储基因名称\n",
    "    dset_genes = group.create_dataset('genes', (len(gene),), dtype=h5py.string_dtype())\n",
    "    dset_genes[:] = gene\n",
    "    \n",
    "    # 存储条形码\n",
    "    dset_barcodes = group.create_dataset('barcodes', (len(barcode),), dtype=h5py.string_dtype())\n",
    "    dset_barcodes[:] = barcode\n",
    "    \n",
    "    # 存储数据矩阵\n",
    "    # 10x格式通常使用CSR格式存储稀疏矩阵\n",
    "    if isinstance(X, np.ndarray):\n",
    "        # 如果矩阵不是稀疏的，将其转换为CSR格式\n",
    "        from scipy.sparse import csr_matrix\n",
    "        X = csr_matrix(X)\n",
    "\n",
    "    # 提取CSR格式的数据\n",
    "    data = X.data\n",
    "    indices = X.indices\n",
    "    indptr = X.indptr\n",
    "    shape = X.shape\n",
    "    \n",
    "    # 存储CSR格式的数据\n",
    "    group.create_dataset('data', data=data)\n",
    "    group.create_dataset('indices', data=indices)\n",
    "    group.create_dataset('indptr', data=indptr)\n",
    "    group.attrs['shape'] = shape\n",
    "\n",
    "\n",
    "    # 存储基因注释\n",
    "    # gene_attrs = adata.var.to_dict('list')\n",
    "    for attr_name, attr_values in gene_attrs.items():\n",
    "        # 创建一个数据集来存储属性值\n",
    "        dset_attr = group.create_dataset(f'genes/{attr_name}', (len(attr_values),), dtype=h5py.string_dtype())\n",
    "        dset_attr[:] = attr_values\n",
    "    \n",
    "    # 存储细胞注释\n",
    "    # barcode_attrs = adata.obs.to_dict('list')\n",
    "    for attr_name, attr_values in barcode_attrs.items():\n",
    "        # 创建一个数据集来存储属性值\n",
    "        dset_attr = group.create_dataset(f'barcodes/{attr_name}', (len(attr_values),), dtype=h5py.string_dtype())\n",
    "        dset_attr[:] = attr_values"
   ]
  },
  {
   "cell_type": "code",
   "execution_count": 64,
   "metadata": {},
   "outputs": [
    {
     "name": "stderr",
     "output_type": "stream",
     "text": [
      "/home/lep/miniconda3/envs/mm-diffusion/lib/python3.8/site-packages/anndata/_core/anndata.py:1830: UserWarning: Variable names are not unique. To make them unique, call `.var_names_make_unique`.\n",
      "  utils.warn_names_duplicates(\"var\")\n"
     ]
    },
    {
     "data": {
      "text/plain": [
       "AnnData object with n_obs × n_vars = 11909 × 36601\n",
       "    var: 'gene_ids', 'feature_types', 'genome'"
      ]
     },
     "execution_count": 64,
     "metadata": {},
     "output_type": "execute_result"
    }
   ],
   "source": [
    "adata2 = sc.read_10x_h5('/stor/lep/data/BABEL/pbmc_granulocyte_sorted_10k_filtered_feature_bc_matrix.h5')\n",
    "adata2"
   ]
  },
  {
   "cell_type": "code",
   "execution_count": 65,
   "metadata": {},
   "outputs": [
    {
     "data": {
      "text/plain": [
       "MIR1302-2HG    Gene Expression\n",
       "FAM138A        Gene Expression\n",
       "OR4F5          Gene Expression\n",
       "AL627309.1     Gene Expression\n",
       "AL627309.3     Gene Expression\n",
       "                    ...       \n",
       "AC141272.1     Gene Expression\n",
       "AC023491.2     Gene Expression\n",
       "AC007325.1     Gene Expression\n",
       "AC007325.4     Gene Expression\n",
       "AC007325.2     Gene Expression\n",
       "Name: feature_types, Length: 36601, dtype: object"
      ]
     },
     "execution_count": 65,
     "metadata": {},
     "output_type": "execute_result"
    }
   ],
   "source": [
    "adata2.var['feature_types']"
   ]
  },
  {
   "cell_type": "code",
   "execution_count": 68,
   "metadata": {},
   "outputs": [
    {
     "name": "stderr",
     "output_type": "stream",
     "text": [
      "/home/lep/miniconda3/envs/mm-diffusion/lib/python3.8/site-packages/anndata/_core/anndata.py:1830: UserWarning: Variable names are not unique. To make them unique, call `.var_names_make_unique`.\n",
      "  utils.warn_names_duplicates(\"var\")\n"
     ]
    },
    {
     "data": {
      "text/plain": [
       "AnnData object with n_obs × n_vars = 3509 × 36601\n",
       "    var: 'gene_ids', 'feature_types', 'genome'"
      ]
     },
     "execution_count": 68,
     "metadata": {},
     "output_type": "execute_result"
    }
   ],
   "source": [
    "adatatt = sc.read_10x_h5('/stor/lep/data/BABEL/testset/GSM5085810_GM12878_rep1_filtered_feature_bc_matrix.h5')\n",
    "adatatt"
   ]
  },
  {
   "cell_type": "markdown",
   "metadata": {},
   "source": [
    "read h5 data"
   ]
  },
  {
   "cell_type": "code",
   "execution_count": 44,
   "metadata": {},
   "outputs": [
    {
     "name": "stdout",
     "output_type": "stream",
     "text": [
      "Matrix:\n",
      " [[0.00000000e+00 8.97043549e-02 1.57706854e-01 ... 0.00000000e+00\n",
      "  0.00000000e+00 3.82409853e-02]\n",
      " [0.00000000e+00 9.45176623e-04 4.79947154e-03 ... 9.04866182e-02\n",
      "  0.00000000e+00 1.72568692e-03]\n",
      " [0.00000000e+00 4.59759595e-02 2.66933778e-01 ... 0.00000000e+00\n",
      "  0.00000000e+00 3.74338335e-02]\n",
      " ...\n",
      " [0.00000000e+00 1.27109900e-02 1.26571916e-04 ... 7.96263632e-04\n",
      "  0.00000000e+00 0.00000000e+00]\n",
      " [0.00000000e+00 1.41640786e-01 1.36947875e-02 ... 0.00000000e+00\n",
      "  0.00000000e+00 7.87642766e-03]\n",
      " [0.00000000e+00 0.00000000e+00 0.00000000e+00 ... 3.84063396e-02\n",
      "  0.00000000e+00 0.00000000e+00]]\n",
      "Row names: ['AL627309.5', 'LINC01409', 'LINC01128', 'NOC2L', 'KLHL17', 'ISG15', 'C1orf159', 'SDF4', 'B3GALT6', 'UBE2J2', 'ACAP3', 'INTS11', 'DVL1', 'AURKAIP1', 'CCNL2', 'MRPL20', 'ATAD3B', 'ATAD3A', 'SSU72', 'MIB2', 'MMP23B', 'CDK11B', 'SLC35E2B', 'CDK11A', 'SLC35E2A', 'NADK', 'GNB1', 'PRKCZ', 'FAAP20', 'SKI', 'MORN1', 'RER1', 'PEX10', 'PLCH2', 'PANK4', 'AL139246.5', 'TNFRSF14-AS1', 'TNFRSF14', 'PRXL2B', 'TTC34', 'MEGF6', 'TPRG1L', 'WRAP73', 'SMIM1', 'LRRC47', 'CEP104', 'DFFB', 'C1orf174', 'NPHP4', 'KCNAB2', 'RPL22', 'ICMT', 'GPR153', 'ACOT7', 'ESPN', 'TNFRSF25', 'NOL9', 'ZBTB48', 'KLHL21', 'PHF13', 'THAP3', 'DNAJC11', 'CAMTA1', 'VAMP3', 'PER3', 'TNFRSF9', 'PARK7', 'ERRFI1', 'RERE', 'RERE-AS1', 'ENO1', 'SLC2A5', 'GPR157', 'H6PD', 'SPSB1', 'SLC25A33', 'TMEM201', 'PIK3CD', 'PIK3CD-AS2', 'CLSTN1', 'CTNNBIP1', 'LZIC', 'NMNAT1', 'RBP7', 'UBE4B', 'KIF1B', 'PGD', 'DFFA', 'PEX14', 'CASZ1', 'TARDBP', 'AL109811.2', 'SRM', 'EXOSC10', 'MTOR', 'UBIAD1', 'FBXO44', 'FBXO6', 'MAD2L2', 'DRAXIN']\n",
      "Column names: ['GACCTAAGTCACGAAC-13-s4d1', 'CATAATCCAACAGCCT-14-s4d8', 'GTTCCTGGTCTAACAG-1-s1d1', 'CTTAAGATCCGCCTCA-6-s2d5', 'TATCACAAGTAGGATG-12-s4d9', 'AGCTACGTCTGGCATG-14-s4d8', 'CCGCAAGGTACCTTAC-14-s3d10', 'CGGTTGGGTGGTTCTT-12-s4d9', 'AGATGCTTCCAGGTTG-14-s3d10', 'GTGCTCAAGCTACTGG-2-s1d2', 'CCTTCAATCATGAGCT-14-s4d8', 'GATTTGCAGCTATGAC-13-s4d1', 'TCGTTAGCAGTAAGTA-3-s1d3', 'CTAATCCGTTGTGATG-3-s1d3', 'TCAAGTATCTCACTCA-s2d4', 'CGTCAATAGTTATGGC-2-s1d2', 'GTTCACCTCCAGCACA-6-s2d5', 'GACAATACACAATTAC-14-s4d8', 'AAGGTATAGAGAAGGG-2-s1d2', 'TCTAAGGGTCCTTTAA-3-s1d3', 'GCAGCCAGTTTCAGGA-1-s1d1', 'TATCCGGAGGGCCACT-6-s2d5', 'CTGGTAAGTGACATAT-13-s4d1', 'TTTGACCGTACCGTTT-6-s2d5', 'AATCAGGAGCTGAGGG-1-s1d1', 'GAGAAACGTACCGGAT-3-s1d3', 'TATTTGCTCACAAGCT-13-s4d1', 'GTTCGCGCAGTAGGTG-14-s4d8', 'CAAATCATCGCTTCTA-14-s3d10', 'AATTTGCCATCAGTAT-1-s1d1', 'CTTGACGAGGAATAAC-10-s3d3', 'AGGTAACCAATATAGG-s2d4', 'ATCAAGACAGGCTAGA-12-s3d7', 'TGAAGTGAGTAAGTGG-2-s1d2', 'TTTCGTCCATTCCTCG-2-s1d2', 'AGCAAATAGGACAATG-s2d4', 'ACCAGGACAAATACCT-4-s2d1', 'TGACTTAAGACAGGTA-3-s1d3', 'CATGAGGCAGCAACAG-14-s4d8', 'GGTTGCATCTCACTAT-14-s3d10', 'CAGTATGGTAGCCATA-10-s3d3', 'TAGCATATCTCACTCA-3-s1d3', 'CGAGCGAAGTGGCGGA-s2d4', 'AGTTTGCAGCGCTAAT-3-s1d3', 'GAGCCTTCAATTAGCT-3-s1d3', 'GCGCTTGCACTGACTA-s2d4', 'CCATAATCATTGTGTG-10-s3d3', 'AATATCCCATCGTTCT-3-s1d3', 'TGAGGGCCAAAGCTCC-14-s3d10', 'GAACCGCTCATTATGG-10-s3d3', 'TTCGGTACAATAATGG-4-s2d1', 'CAAGCTAGTTAACAGT-6-s2d5', 'CGCCACACATTAGCCA-14-s4d8', 'GCCTTTGGTCACAGCG-14-s3d10', 'GCAGCTATCTTGTCCA-14-s3d10', 'TGTTGTTTCGATTTAG-8-s3d6', 'GCTGATCCAATAACGA-14-s3d10', 'GATAACGAGCACGTTG-14-s3d10', 'CAATGTCAGTCAGGCC-10-s3d3', 'CCAGCCTGTTAACAGT-6-s2d5', 'AGACACGCATGCAACC-14-s3d10', 'CTCCCTGAGCGAGGTG-14-s3d10', 'GGCTTCAAGCACTAGT-13-s4d1', 'CTGGCTAAGTTTGGTA-14-s4d8', 'CTTCAAGCACCTCACC-3-s1d3', 'ACCTAAGGTGCAACTA-13-s4d1', 'GCACGAACAGAGAGCC-s2d4', 'CTTCACTCAACCGCCA-10-s3d3', 'ATTAGTCCAGGATGGC-1-s1d1', 'GTACTAATCGTGCTAG-2-s1d2', 'CAAGTAACACAGCCAT-13-s4d1', 'CTTAATGAGCACCACA-6-s2d5', 'TCCGGAATCGATATTG-14-s3d10', 'GTGTCCAAGTAGGATG-3-s1d3', 'GGGTTATTCCCATAGG-s2d4', 'AACTACTCAACAGGTG-14-s3d10', 'TTGCTCTCACTTAACG-2-s1d2', 'TAGCCTCTCTAGCGAT-14-s4d8', 'AGCCTCCGTGTGCACG-13-s4d1', 'AATGTCCAGGGTGAGT-13-s4d1', 'CTGTAACAGCAACATC-12-s4d9', 'CATAGGTTCATGACCG-13-s4d1', 'AAACCGAAGCAAGGAC-6-s2d5', 'AGGAACCAGTTAGTGC-12-s4d9', 'AGCAGGTAGGACGTAA-6-s2d5', 'GCCTTAACATGTTTGG-12-s4d9', 'AGAGGATGTCGTAATG-14-s4d8', 'GTTAAGTGTATTCGTC-4-s2d1', 'GTATTGATCACGCATG-14-s3d10', 'TATAGCTCATCAGCAC-12-s4d9', 'ATCAAGACAAGTCGCT-1-s1d1', 'CTAATGTCATAATCAC-14-s4d8', 'TAACCAGGTCGCGCAA-13-s4d1', 'TTGTTTGGTGGGTACT-6-s2d5', 'CCAACCAAGGGTGAAC-14-s4d8', 'GGAAACTCAGTATGTT-2-s1d2', 'TAGTTTGAGGACTTAC-s2d4', 'TACATCAAGGCTGGCT-14-s4d8', 'CGTTATCGTCTATCGT-14-s4d8', 'ATGTAACGTCAAAGAA-s2d4', 'GACCTAAGTCACGAAC-13-s4d11', 'CATAATCCAACAGCCT-14-s4d81', 'GTTCCTGGTCTAACAG-1-s1d11', 'CTTAAGATCCGCCTCA-6-s2d51', 'TATCACAAGTAGGATG-12-s4d91', 'AGCTACGTCTGGCATG-14-s4d81', 'CCGCAAGGTACCTTAC-14-s3d101', 'CGGTTGGGTGGTTCTT-12-s4d91', 'AGATGCTTCCAGGTTG-14-s3d101', 'GTGCTCAAGCTACTGG-2-s1d21', 'CCTTCAATCATGAGCT-14-s4d81', 'GATTTGCAGCTATGAC-13-s4d11', 'TCGTTAGCAGTAAGTA-3-s1d31', 'CTAATCCGTTGTGATG-3-s1d31', 'TCAAGTATCTCACTCA-s2d41', 'CGTCAATAGTTATGGC-2-s1d21', 'GTTCACCTCCAGCACA-6-s2d51', 'GACAATACACAATTAC-14-s4d81', 'AAGGTATAGAGAAGGG-2-s1d21', 'TCTAAGGGTCCTTTAA-3-s1d31', 'GCAGCCAGTTTCAGGA-1-s1d11', 'TATCCGGAGGGCCACT-6-s2d51', 'CTGGTAAGTGACATAT-13-s4d11', 'TTTGACCGTACCGTTT-6-s2d51', 'AATCAGGAGCTGAGGG-1-s1d11', 'GAGAAACGTACCGGAT-3-s1d31', 'TATTTGCTCACAAGCT-13-s4d11', 'GTTCGCGCAGTAGGTG-14-s4d81', 'CAAATCATCGCTTCTA-14-s3d101', 'AATTTGCCATCAGTAT-1-s1d11', 'CTTGACGAGGAATAAC-10-s3d31', 'AGGTAACCAATATAGG-s2d41', 'ATCAAGACAGGCTAGA-12-s3d71', 'TGAAGTGAGTAAGTGG-2-s1d21', 'TTTCGTCCATTCCTCG-2-s1d21', 'AGCAAATAGGACAATG-s2d41', 'ACCAGGACAAATACCT-4-s2d11', 'TGACTTAAGACAGGTA-3-s1d31', 'CATGAGGCAGCAACAG-14-s4d81', 'GGTTGCATCTCACTAT-14-s3d101', 'CAGTATGGTAGCCATA-10-s3d31', 'TAGCATATCTCACTCA-3-s1d31', 'CGAGCGAAGTGGCGGA-s2d41', 'AGTTTGCAGCGCTAAT-3-s1d31', 'GAGCCTTCAATTAGCT-3-s1d31', 'GCGCTTGCACTGACTA-s2d41', 'CCATAATCATTGTGTG-10-s3d31', 'AATATCCCATCGTTCT-3-s1d31', 'TGAGGGCCAAAGCTCC-14-s3d101', 'GAACCGCTCATTATGG-10-s3d31', 'TTCGGTACAATAATGG-4-s2d11', 'CAAGCTAGTTAACAGT-6-s2d51', 'CGCCACACATTAGCCA-14-s4d81', 'GCCTTTGGTCACAGCG-14-s3d101', 'GCAGCTATCTTGTCCA-14-s3d101', 'TGTTGTTTCGATTTAG-8-s3d61', 'GCTGATCCAATAACGA-14-s3d101', 'GATAACGAGCACGTTG-14-s3d101', 'CAATGTCAGTCAGGCC-10-s3d31', 'CCAGCCTGTTAACAGT-6-s2d51', 'AGACACGCATGCAACC-14-s3d101', 'CTCCCTGAGCGAGGTG-14-s3d101', 'GGCTTCAAGCACTAGT-13-s4d11', 'CTGGCTAAGTTTGGTA-14-s4d81', 'CTTCAAGCACCTCACC-3-s1d31', 'ACCTAAGGTGCAACTA-13-s4d11', 'GCACGAACAGAGAGCC-s2d41', 'CTTCACTCAACCGCCA-10-s3d31', 'ATTAGTCCAGGATGGC-1-s1d11', 'GTACTAATCGTGCTAG-2-s1d21', 'CAAGTAACACAGCCAT-13-s4d11', 'CTTAATGAGCACCACA-6-s2d51', 'TCCGGAATCGATATTG-14-s3d101', 'GTGTCCAAGTAGGATG-3-s1d31', 'GGGTTATTCCCATAGG-s2d41', 'AACTACTCAACAGGTG-14-s3d101', 'TTGCTCTCACTTAACG-2-s1d21', 'TAGCCTCTCTAGCGAT-14-s4d81', 'AGCCTCCGTGTGCACG-13-s4d11', 'AATGTCCAGGGTGAGT-13-s4d11', 'CTGTAACAGCAACATC-12-s4d91', 'CATAGGTTCATGACCG-13-s4d11', 'AAACCGAAGCAAGGAC-6-s2d51', 'AGGAACCAGTTAGTGC-12-s4d91', 'AGCAGGTAGGACGTAA-6-s2d51', 'GCCTTAACATGTTTGG-12-s4d91', 'AGAGGATGTCGTAATG-14-s4d81', 'GTTAAGTGTATTCGTC-4-s2d11', 'GTATTGATCACGCATG-14-s3d101', 'TATAGCTCATCAGCAC-12-s4d91', 'ATCAAGACAAGTCGCT-1-s1d11', 'CTAATGTCATAATCAC-14-s4d81', 'TAACCAGGTCGCGCAA-13-s4d11', 'TTGTTTGGTGGGTACT-6-s2d51', 'CCAACCAAGGGTGAAC-14-s4d81', 'GGAAACTCAGTATGTT-2-s1d21', 'TAGTTTGAGGACTTAC-s2d41', 'TACATCAAGGCTGGCT-14-s4d81', 'CGTTATCGTCTATCGT-14-s4d81', 'ATGTAACGTCAAAGAA-s2d41']\n"
     ]
    }
   ],
   "source": [
    "# adata111 = sc.read_h5ad('/stor/lep/workspace/multi_diffusion/scDesign3/output/sim_open_RNA.h5')\n",
    "import h5py\n",
    "\n",
    "# 打开HDF5文件\n",
    "with h5py.File('/stor/lep/workspace/multi_diffusion/scDesign3/output/sim_open_RNA.h5', 'r') as hdf:\n",
    "# with h5py.File('./output/sim_open_RNA.h5', 'r') as hdf:\n",
    "    # 读取矩阵数据\n",
    "    matrix = np.array(hdf['group/matrix'])\n",
    "    \n",
    "    # 读取行名和列名\n",
    "    rownames = [rn.decode('utf-8') for rn in hdf['group/rownames'][:]]\n",
    "    colnames = [cn.decode('utf-8') for cn in hdf['group/colnames'][:]]\n",
    "\n",
    "# 打印矩阵、行名和列名\n",
    "print(\"Matrix:\\n\", matrix)\n",
    "print(\"Row names:\", rownames)\n",
    "print(\"Column names:\", colnames)\n"
   ]
  },
  {
   "cell_type": "markdown",
   "metadata": {},
   "source": [
    "generate h5mu"
   ]
  },
  {
   "cell_type": "code",
   "execution_count": 6,
   "metadata": {},
   "outputs": [
    {
     "name": "stderr",
     "output_type": "stream",
     "text": [
      "/home/lep/miniconda3/envs/mm-diffusion/lib/python3.8/site-packages/mudata/_core/mudata.py:578: FutureWarning: In a future version, `df.iloc[:, i] = newvals` will attempt to set the values inplace instead of always setting a new array. To retain the old behavior, use either `df[df.columns[i]] = newvals` or, if columns are non-unique, `df.isetitem(i, newvals)`\n",
      "  data_mod.loc[:, colname] = col\n",
      "/home/lep/miniconda3/envs/mm-diffusion/lib/python3.8/site-packages/mudata/_core/mudata.py:578: FutureWarning: In a future version, `df.iloc[:, i] = newvals` will attempt to set the values inplace instead of always setting a new array. To retain the old behavior, use either `df[df.columns[i]] = newvals` or, if columns are non-unique, `df.isetitem(i, newvals)`\n",
      "  data_mod.loc[:, colname] = col\n"
     ]
    },
    {
     "data": {
      "text/html": [
       "<pre>MuData object with n_obs × n_vars = 69249 × 129921\n",
       "  var:\t&#x27;feature_types&#x27;, &#x27;gene_id&#x27;\n",
       "  2 modalities\n",
       "    atac:\t69249 x 116490\n",
       "      obs:\t&#x27;GEX_pct_counts_mt&#x27;, &#x27;GEX_n_counts&#x27;, &#x27;GEX_n_genes&#x27;, &#x27;GEX_size_factors&#x27;, &#x27;GEX_phase&#x27;, &#x27;ATAC_nCount_peaks&#x27;, &#x27;ATAC_atac_fragments&#x27;, &#x27;ATAC_reads_in_peaks_frac&#x27;, &#x27;ATAC_blacklist_fraction&#x27;, &#x27;ATAC_nucleosome_signal&#x27;, &#x27;cell_type&#x27;, &#x27;batch&#x27;, &#x27;ATAC_pseudotime_order&#x27;, &#x27;GEX_pseudotime_order&#x27;, &#x27;Samplename&#x27;, &#x27;Site&#x27;, &#x27;DonorNumber&#x27;, &#x27;Modality&#x27;, &#x27;VendorLot&#x27;, &#x27;DonorID&#x27;, &#x27;DonorAge&#x27;, &#x27;DonorBMI&#x27;, &#x27;DonorBloodType&#x27;, &#x27;DonorRace&#x27;, &#x27;Ethnicity&#x27;, &#x27;DonorGender&#x27;, &#x27;QCMeds&#x27;, &#x27;DonorSmoker&#x27;, &#x27;ATAC_umap1&#x27;, &#x27;ATAC_umap2&#x27;\n",
       "      var:\t&#x27;feature_types&#x27;, &#x27;gene_id&#x27;\n",
       "      uns:\t&#x27;ATAC_gene_activity_var_names&#x27;, &#x27;dataset_id&#x27;, &#x27;genome&#x27;, &#x27;organism&#x27;\n",
       "      obsm:\t&#x27;ATAC_gene_activity&#x27;, &#x27;ATAC_lsi_full&#x27;, &#x27;ATAC_lsi_red&#x27;, &#x27;ATAC_umap&#x27;, &#x27;GEX_X_pca&#x27;, &#x27;GEX_X_umap&#x27;\n",
       "      layers:\t&#x27;counts&#x27;\n",
       "    rna:\t69249 x 13431\n",
       "      obs:\t&#x27;GEX_pct_counts_mt&#x27;, &#x27;GEX_n_counts&#x27;, &#x27;GEX_n_genes&#x27;, &#x27;GEX_size_factors&#x27;, &#x27;GEX_phase&#x27;, &#x27;ATAC_nCount_peaks&#x27;, &#x27;ATAC_atac_fragments&#x27;, &#x27;ATAC_reads_in_peaks_frac&#x27;, &#x27;ATAC_blacklist_fraction&#x27;, &#x27;ATAC_nucleosome_signal&#x27;, &#x27;cell_type&#x27;, &#x27;batch&#x27;, &#x27;ATAC_pseudotime_order&#x27;, &#x27;GEX_pseudotime_order&#x27;, &#x27;Samplename&#x27;, &#x27;Site&#x27;, &#x27;DonorNumber&#x27;, &#x27;Modality&#x27;, &#x27;VendorLot&#x27;, &#x27;DonorID&#x27;, &#x27;DonorAge&#x27;, &#x27;DonorBMI&#x27;, &#x27;DonorBloodType&#x27;, &#x27;DonorRace&#x27;, &#x27;Ethnicity&#x27;, &#x27;DonorGender&#x27;, &#x27;QCMeds&#x27;, &#x27;DonorSmoker&#x27;, &#x27;GEX_X_umap1&#x27;, &#x27;GEX_X_umap2&#x27;\n",
       "      var:\t&#x27;feature_types&#x27;, &#x27;gene_id&#x27;\n",
       "      uns:\t&#x27;ATAC_gene_activity_var_names&#x27;, &#x27;dataset_id&#x27;, &#x27;genome&#x27;, &#x27;organism&#x27;\n",
       "      obsm:\t&#x27;ATAC_gene_activity&#x27;, &#x27;ATAC_lsi_full&#x27;, &#x27;ATAC_lsi_red&#x27;, &#x27;ATAC_umap&#x27;, &#x27;GEX_X_pca&#x27;, &#x27;GEX_X_umap&#x27;\n",
       "      layers:\t&#x27;counts&#x27;</pre>"
      ],
      "text/plain": [
       "MuData object with n_obs × n_vars = 69249 × 129921\n",
       "  var:\t'feature_types', 'gene_id'\n",
       "  2 modalities\n",
       "    atac:\t69249 x 116490\n",
       "      obs:\t'GEX_pct_counts_mt', 'GEX_n_counts', 'GEX_n_genes', 'GEX_size_factors', 'GEX_phase', 'ATAC_nCount_peaks', 'ATAC_atac_fragments', 'ATAC_reads_in_peaks_frac', 'ATAC_blacklist_fraction', 'ATAC_nucleosome_signal', 'cell_type', 'batch', 'ATAC_pseudotime_order', 'GEX_pseudotime_order', 'Samplename', 'Site', 'DonorNumber', 'Modality', 'VendorLot', 'DonorID', 'DonorAge', 'DonorBMI', 'DonorBloodType', 'DonorRace', 'Ethnicity', 'DonorGender', 'QCMeds', 'DonorSmoker', 'ATAC_umap1', 'ATAC_umap2'\n",
       "      var:\t'feature_types', 'gene_id'\n",
       "      uns:\t'ATAC_gene_activity_var_names', 'dataset_id', 'genome', 'organism'\n",
       "      obsm:\t'ATAC_gene_activity', 'ATAC_lsi_full', 'ATAC_lsi_red', 'ATAC_umap', 'GEX_X_pca', 'GEX_X_umap'\n",
       "      layers:\t'counts'\n",
       "    rna:\t69249 x 13431\n",
       "      obs:\t'GEX_pct_counts_mt', 'GEX_n_counts', 'GEX_n_genes', 'GEX_size_factors', 'GEX_phase', 'ATAC_nCount_peaks', 'ATAC_atac_fragments', 'ATAC_reads_in_peaks_frac', 'ATAC_blacklist_fraction', 'ATAC_nucleosome_signal', 'cell_type', 'batch', 'ATAC_pseudotime_order', 'GEX_pseudotime_order', 'Samplename', 'Site', 'DonorNumber', 'Modality', 'VendorLot', 'DonorID', 'DonorAge', 'DonorBMI', 'DonorBloodType', 'DonorRace', 'Ethnicity', 'DonorGender', 'QCMeds', 'DonorSmoker', 'GEX_X_umap1', 'GEX_X_umap2'\n",
       "      var:\t'feature_types', 'gene_id'\n",
       "      uns:\t'ATAC_gene_activity_var_names', 'dataset_id', 'genome', 'organism'\n",
       "      obsm:\t'ATAC_gene_activity', 'ATAC_lsi_full', 'ATAC_lsi_red', 'ATAC_umap', 'GEX_X_pca', 'GEX_X_umap'\n",
       "      layers:\t'counts'"
      ]
     },
     "execution_count": 6,
     "metadata": {},
     "output_type": "execute_result"
    }
   ],
   "source": [
    "# mdata = mu.read_10x_h5('/stor/lep/data/pbmc10k_multiome/pbmc_granulocyte_sorted_10k_filtered_feature_bc_matrix.h5')\n",
    "mdata = mu.read_h5mu('/stor/lep/diffusion/multiome/openproblem.h5mu')\n",
    "# mdata = mu.read_10x_h5('/stor/lep/data/BABEL/GSM5085810_GM12878_rep2_filtered_feature_bc_matrix.h5')\n",
    "mdata.var_names_make_unique()\n",
    "\n",
    "mdata"
   ]
  },
  {
   "cell_type": "code",
   "execution_count": 7,
   "metadata": {},
   "outputs": [
    {
     "data": {
      "text/html": [
       "<pre>MuData object with n_obs × n_vars = 69249 × 129921\n",
       "  var:\t&#x27;feature_types&#x27;, &#x27;gene_id&#x27;\n",
       "  2 modalities\n",
       "    atac:\t69249 x 116490\n",
       "      obs:\t&#x27;GEX_pct_counts_mt&#x27;, &#x27;GEX_n_counts&#x27;, &#x27;GEX_n_genes&#x27;, &#x27;GEX_size_factors&#x27;, &#x27;GEX_phase&#x27;, &#x27;ATAC_nCount_peaks&#x27;, &#x27;ATAC_atac_fragments&#x27;, &#x27;ATAC_reads_in_peaks_frac&#x27;, &#x27;ATAC_blacklist_fraction&#x27;, &#x27;ATAC_nucleosome_signal&#x27;, &#x27;cell_type&#x27;, &#x27;batch&#x27;, &#x27;ATAC_pseudotime_order&#x27;, &#x27;GEX_pseudotime_order&#x27;, &#x27;Samplename&#x27;, &#x27;Site&#x27;, &#x27;DonorNumber&#x27;, &#x27;Modality&#x27;, &#x27;VendorLot&#x27;, &#x27;DonorID&#x27;, &#x27;DonorAge&#x27;, &#x27;DonorBMI&#x27;, &#x27;DonorBloodType&#x27;, &#x27;DonorRace&#x27;, &#x27;Ethnicity&#x27;, &#x27;DonorGender&#x27;, &#x27;QCMeds&#x27;, &#x27;DonorSmoker&#x27;, &#x27;ATAC_umap1&#x27;, &#x27;ATAC_umap2&#x27;\n",
       "      var:\t&#x27;feature_types&#x27;, &#x27;gene_id&#x27;\n",
       "      uns:\t&#x27;ATAC_gene_activity_var_names&#x27;, &#x27;dataset_id&#x27;, &#x27;genome&#x27;, &#x27;organism&#x27;\n",
       "      obsm:\t&#x27;ATAC_gene_activity&#x27;, &#x27;ATAC_lsi_full&#x27;, &#x27;ATAC_lsi_red&#x27;, &#x27;ATAC_umap&#x27;, &#x27;GEX_X_pca&#x27;, &#x27;GEX_X_umap&#x27;\n",
       "      layers:\t&#x27;counts&#x27;\n",
       "    rna:\t69249 x 13431\n",
       "      obs:\t&#x27;GEX_pct_counts_mt&#x27;, &#x27;GEX_n_counts&#x27;, &#x27;GEX_n_genes&#x27;, &#x27;GEX_size_factors&#x27;, &#x27;GEX_phase&#x27;, &#x27;ATAC_nCount_peaks&#x27;, &#x27;ATAC_atac_fragments&#x27;, &#x27;ATAC_reads_in_peaks_frac&#x27;, &#x27;ATAC_blacklist_fraction&#x27;, &#x27;ATAC_nucleosome_signal&#x27;, &#x27;cell_type&#x27;, &#x27;batch&#x27;, &#x27;ATAC_pseudotime_order&#x27;, &#x27;GEX_pseudotime_order&#x27;, &#x27;Samplename&#x27;, &#x27;Site&#x27;, &#x27;DonorNumber&#x27;, &#x27;Modality&#x27;, &#x27;VendorLot&#x27;, &#x27;DonorID&#x27;, &#x27;DonorAge&#x27;, &#x27;DonorBMI&#x27;, &#x27;DonorBloodType&#x27;, &#x27;DonorRace&#x27;, &#x27;Ethnicity&#x27;, &#x27;DonorGender&#x27;, &#x27;QCMeds&#x27;, &#x27;DonorSmoker&#x27;, &#x27;GEX_X_umap1&#x27;, &#x27;GEX_X_umap2&#x27;, &#x27;n_genes_by_counts&#x27;, &#x27;total_counts&#x27;, &#x27;total_counts_mt&#x27;, &#x27;pct_counts_mt&#x27;\n",
       "      var:\t&#x27;feature_types&#x27;, &#x27;gene_id&#x27;, &#x27;mt&#x27;, &#x27;n_cells_by_counts&#x27;, &#x27;mean_counts&#x27;, &#x27;pct_dropout_by_counts&#x27;, &#x27;total_counts&#x27;\n",
       "      uns:\t&#x27;ATAC_gene_activity_var_names&#x27;, &#x27;dataset_id&#x27;, &#x27;genome&#x27;, &#x27;organism&#x27;\n",
       "      obsm:\t&#x27;ATAC_gene_activity&#x27;, &#x27;ATAC_lsi_full&#x27;, &#x27;ATAC_lsi_red&#x27;, &#x27;ATAC_umap&#x27;, &#x27;GEX_X_pca&#x27;, &#x27;GEX_X_umap&#x27;\n",
       "      layers:\t&#x27;counts&#x27;</pre>"
      ],
      "text/plain": [
       "MuData object with n_obs × n_vars = 69249 × 129921\n",
       "  var:\t'feature_types', 'gene_id'\n",
       "  2 modalities\n",
       "    atac:\t69249 x 116490\n",
       "      obs:\t'GEX_pct_counts_mt', 'GEX_n_counts', 'GEX_n_genes', 'GEX_size_factors', 'GEX_phase', 'ATAC_nCount_peaks', 'ATAC_atac_fragments', 'ATAC_reads_in_peaks_frac', 'ATAC_blacklist_fraction', 'ATAC_nucleosome_signal', 'cell_type', 'batch', 'ATAC_pseudotime_order', 'GEX_pseudotime_order', 'Samplename', 'Site', 'DonorNumber', 'Modality', 'VendorLot', 'DonorID', 'DonorAge', 'DonorBMI', 'DonorBloodType', 'DonorRace', 'Ethnicity', 'DonorGender', 'QCMeds', 'DonorSmoker', 'ATAC_umap1', 'ATAC_umap2'\n",
       "      var:\t'feature_types', 'gene_id'\n",
       "      uns:\t'ATAC_gene_activity_var_names', 'dataset_id', 'genome', 'organism'\n",
       "      obsm:\t'ATAC_gene_activity', 'ATAC_lsi_full', 'ATAC_lsi_red', 'ATAC_umap', 'GEX_X_pca', 'GEX_X_umap'\n",
       "      layers:\t'counts'\n",
       "    rna:\t69249 x 13431\n",
       "      obs:\t'GEX_pct_counts_mt', 'GEX_n_counts', 'GEX_n_genes', 'GEX_size_factors', 'GEX_phase', 'ATAC_nCount_peaks', 'ATAC_atac_fragments', 'ATAC_reads_in_peaks_frac', 'ATAC_blacklist_fraction', 'ATAC_nucleosome_signal', 'cell_type', 'batch', 'ATAC_pseudotime_order', 'GEX_pseudotime_order', 'Samplename', 'Site', 'DonorNumber', 'Modality', 'VendorLot', 'DonorID', 'DonorAge', 'DonorBMI', 'DonorBloodType', 'DonorRace', 'Ethnicity', 'DonorGender', 'QCMeds', 'DonorSmoker', 'GEX_X_umap1', 'GEX_X_umap2', 'n_genes_by_counts', 'total_counts', 'total_counts_mt', 'pct_counts_mt'\n",
       "      var:\t'feature_types', 'gene_id', 'mt', 'n_cells_by_counts', 'mean_counts', 'pct_dropout_by_counts', 'total_counts'\n",
       "      uns:\t'ATAC_gene_activity_var_names', 'dataset_id', 'genome', 'organism'\n",
       "      obsm:\t'ATAC_gene_activity', 'ATAC_lsi_full', 'ATAC_lsi_red', 'ATAC_umap', 'GEX_X_pca', 'GEX_X_umap'\n",
       "      layers:\t'counts'"
      ]
     },
     "execution_count": 7,
     "metadata": {},
     "output_type": "execute_result"
    }
   ],
   "source": [
    "rna = mdata.mod['rna']\n",
    "rna.var['mt'] = rna.var_names.str.startswith('MT-')  # annotate the group of mitochondrial genes as 'mt'\n",
    "sc.pp.calculate_qc_metrics(rna, qc_vars=['mt'], percent_top=None, log1p=False, inplace=True)\n",
    "mu.pp.filter_var(rna, 'n_cells_by_counts', lambda x: x >= 10)\n",
    "mdata"
   ]
  },
  {
   "cell_type": "code",
   "execution_count": 8,
   "metadata": {},
   "outputs": [
    {
     "data": {
      "text/html": [
       "<pre>MuData object with n_obs × n_vars = 69249 × 129921\n",
       "  var:\t&#x27;feature_types&#x27;, &#x27;gene_id&#x27;\n",
       "  2 modalities\n",
       "    atac:\t69249 x 36553\n",
       "      obs:\t&#x27;GEX_pct_counts_mt&#x27;, &#x27;GEX_n_counts&#x27;, &#x27;GEX_n_genes&#x27;, &#x27;GEX_size_factors&#x27;, &#x27;GEX_phase&#x27;, &#x27;ATAC_nCount_peaks&#x27;, &#x27;ATAC_atac_fragments&#x27;, &#x27;ATAC_reads_in_peaks_frac&#x27;, &#x27;ATAC_blacklist_fraction&#x27;, &#x27;ATAC_nucleosome_signal&#x27;, &#x27;cell_type&#x27;, &#x27;batch&#x27;, &#x27;ATAC_pseudotime_order&#x27;, &#x27;GEX_pseudotime_order&#x27;, &#x27;Samplename&#x27;, &#x27;Site&#x27;, &#x27;DonorNumber&#x27;, &#x27;Modality&#x27;, &#x27;VendorLot&#x27;, &#x27;DonorID&#x27;, &#x27;DonorAge&#x27;, &#x27;DonorBMI&#x27;, &#x27;DonorBloodType&#x27;, &#x27;DonorRace&#x27;, &#x27;Ethnicity&#x27;, &#x27;DonorGender&#x27;, &#x27;QCMeds&#x27;, &#x27;DonorSmoker&#x27;, &#x27;ATAC_umap1&#x27;, &#x27;ATAC_umap2&#x27;, &#x27;n_genes_by_counts&#x27;, &#x27;total_counts&#x27;\n",
       "      var:\t&#x27;feature_types&#x27;, &#x27;gene_id&#x27;, &#x27;n_cells_by_counts&#x27;, &#x27;mean_counts&#x27;, &#x27;pct_dropout_by_counts&#x27;, &#x27;total_counts&#x27;\n",
       "      uns:\t&#x27;ATAC_gene_activity_var_names&#x27;, &#x27;dataset_id&#x27;, &#x27;genome&#x27;, &#x27;organism&#x27;\n",
       "      obsm:\t&#x27;ATAC_gene_activity&#x27;, &#x27;ATAC_lsi_full&#x27;, &#x27;ATAC_lsi_red&#x27;, &#x27;ATAC_umap&#x27;, &#x27;GEX_X_pca&#x27;, &#x27;GEX_X_umap&#x27;\n",
       "      layers:\t&#x27;counts&#x27;\n",
       "    rna:\t69249 x 13431\n",
       "      obs:\t&#x27;GEX_pct_counts_mt&#x27;, &#x27;GEX_n_counts&#x27;, &#x27;GEX_n_genes&#x27;, &#x27;GEX_size_factors&#x27;, &#x27;GEX_phase&#x27;, &#x27;ATAC_nCount_peaks&#x27;, &#x27;ATAC_atac_fragments&#x27;, &#x27;ATAC_reads_in_peaks_frac&#x27;, &#x27;ATAC_blacklist_fraction&#x27;, &#x27;ATAC_nucleosome_signal&#x27;, &#x27;cell_type&#x27;, &#x27;batch&#x27;, &#x27;ATAC_pseudotime_order&#x27;, &#x27;GEX_pseudotime_order&#x27;, &#x27;Samplename&#x27;, &#x27;Site&#x27;, &#x27;DonorNumber&#x27;, &#x27;Modality&#x27;, &#x27;VendorLot&#x27;, &#x27;DonorID&#x27;, &#x27;DonorAge&#x27;, &#x27;DonorBMI&#x27;, &#x27;DonorBloodType&#x27;, &#x27;DonorRace&#x27;, &#x27;Ethnicity&#x27;, &#x27;DonorGender&#x27;, &#x27;QCMeds&#x27;, &#x27;DonorSmoker&#x27;, &#x27;GEX_X_umap1&#x27;, &#x27;GEX_X_umap2&#x27;, &#x27;n_genes_by_counts&#x27;, &#x27;total_counts&#x27;, &#x27;total_counts_mt&#x27;, &#x27;pct_counts_mt&#x27;\n",
       "      var:\t&#x27;feature_types&#x27;, &#x27;gene_id&#x27;, &#x27;mt&#x27;, &#x27;n_cells_by_counts&#x27;, &#x27;mean_counts&#x27;, &#x27;pct_dropout_by_counts&#x27;, &#x27;total_counts&#x27;\n",
       "      uns:\t&#x27;ATAC_gene_activity_var_names&#x27;, &#x27;dataset_id&#x27;, &#x27;genome&#x27;, &#x27;organism&#x27;\n",
       "      obsm:\t&#x27;ATAC_gene_activity&#x27;, &#x27;ATAC_lsi_full&#x27;, &#x27;ATAC_lsi_red&#x27;, &#x27;ATAC_umap&#x27;, &#x27;GEX_X_pca&#x27;, &#x27;GEX_X_umap&#x27;\n",
       "      layers:\t&#x27;counts&#x27;</pre>"
      ],
      "text/plain": [
       "MuData object with n_obs × n_vars = 69249 × 129921\n",
       "  var:\t'feature_types', 'gene_id'\n",
       "  2 modalities\n",
       "    atac:\t69249 x 36553\n",
       "      obs:\t'GEX_pct_counts_mt', 'GEX_n_counts', 'GEX_n_genes', 'GEX_size_factors', 'GEX_phase', 'ATAC_nCount_peaks', 'ATAC_atac_fragments', 'ATAC_reads_in_peaks_frac', 'ATAC_blacklist_fraction', 'ATAC_nucleosome_signal', 'cell_type', 'batch', 'ATAC_pseudotime_order', 'GEX_pseudotime_order', 'Samplename', 'Site', 'DonorNumber', 'Modality', 'VendorLot', 'DonorID', 'DonorAge', 'DonorBMI', 'DonorBloodType', 'DonorRace', 'Ethnicity', 'DonorGender', 'QCMeds', 'DonorSmoker', 'ATAC_umap1', 'ATAC_umap2', 'n_genes_by_counts', 'total_counts'\n",
       "      var:\t'feature_types', 'gene_id', 'n_cells_by_counts', 'mean_counts', 'pct_dropout_by_counts', 'total_counts'\n",
       "      uns:\t'ATAC_gene_activity_var_names', 'dataset_id', 'genome', 'organism'\n",
       "      obsm:\t'ATAC_gene_activity', 'ATAC_lsi_full', 'ATAC_lsi_red', 'ATAC_umap', 'GEX_X_pca', 'GEX_X_umap'\n",
       "      layers:\t'counts'\n",
       "    rna:\t69249 x 13431\n",
       "      obs:\t'GEX_pct_counts_mt', 'GEX_n_counts', 'GEX_n_genes', 'GEX_size_factors', 'GEX_phase', 'ATAC_nCount_peaks', 'ATAC_atac_fragments', 'ATAC_reads_in_peaks_frac', 'ATAC_blacklist_fraction', 'ATAC_nucleosome_signal', 'cell_type', 'batch', 'ATAC_pseudotime_order', 'GEX_pseudotime_order', 'Samplename', 'Site', 'DonorNumber', 'Modality', 'VendorLot', 'DonorID', 'DonorAge', 'DonorBMI', 'DonorBloodType', 'DonorRace', 'Ethnicity', 'DonorGender', 'QCMeds', 'DonorSmoker', 'GEX_X_umap1', 'GEX_X_umap2', 'n_genes_by_counts', 'total_counts', 'total_counts_mt', 'pct_counts_mt'\n",
       "      var:\t'feature_types', 'gene_id', 'mt', 'n_cells_by_counts', 'mean_counts', 'pct_dropout_by_counts', 'total_counts'\n",
       "      uns:\t'ATAC_gene_activity_var_names', 'dataset_id', 'genome', 'organism'\n",
       "      obsm:\t'ATAC_gene_activity', 'ATAC_lsi_full', 'ATAC_lsi_red', 'ATAC_umap', 'GEX_X_pca', 'GEX_X_umap'\n",
       "      layers:\t'counts'"
      ]
     },
     "execution_count": 8,
     "metadata": {},
     "output_type": "execute_result"
    }
   ],
   "source": [
    "atac = mdata.mod['atac']\n",
    "sc.pp.calculate_qc_metrics(atac, percent_top=None, log1p=False, inplace=True)\n",
    "mu.pp.filter_var(atac, 'n_cells_by_counts', lambda x: x >= int(atac.shape[0]*0.02))\n",
    "# mu.atac.pp.binarize(mdata)\n",
    "mdata"
   ]
  },
  {
   "cell_type": "code",
   "execution_count": 109,
   "metadata": {},
   "outputs": [],
   "source": [
    "# 使用muon计算TF-IDF\n",
    "mu.atac.pp.tfidf(atac, scale_factor=1e4)\n",
    "\n",
    "# 获取TF-IDF矩阵\n",
    "tfidf_matrix = atac.X  # 这将是一个稀疏矩阵\n",
    "\n",
    "# 创建Binarizer实例，设置阈值\n",
    "binarizer = Binarizer(threshold=0.0)\n",
    "\n",
    "# 对TF-IDF矩阵进行二值化处理\n",
    "tfidf_matrix_binarized = binarizer.fit_transform(tfidf_matrix)\n",
    "\n",
    "# 将二值化后的矩阵放回MuData对象（如果需要）\n",
    "atac.X = tfidf_matrix_binarized"
   ]
  },
  {
   "cell_type": "code",
   "execution_count": 110,
   "metadata": {},
   "outputs": [],
   "source": [
    "df = pd.read_csv('/stor/lep/data/pbmc10k_multiome/labels_annot.txt',sep='\\t')\n",
    "# df.head()"
   ]
  },
  {
   "cell_type": "code",
   "execution_count": 111,
   "metadata": {},
   "outputs": [
    {
     "name": "stderr",
     "output_type": "stream",
     "text": [
      "/tmp/ipykernel_2914482/667162776.py:8: SettingWithCopyWarning: \n",
      "A value is trying to be set on a copy of a slice from a DataFrame\n",
      "\n",
      "See the caveats in the documentation: https://pandas.pydata.org/pandas-docs/stable/user_guide/indexing.html#returning-a-view-versus-a-copy\n",
      "  rna.obs['cell_type'][i] = celltype\n",
      "/tmp/ipykernel_2914482/667162776.py:9: SettingWithCopyWarning: \n",
      "A value is trying to be set on a copy of a slice from a DataFrame\n",
      "\n",
      "See the caveats in the documentation: https://pandas.pydata.org/pandas-docs/stable/user_guide/indexing.html#returning-a-view-versus-a-copy\n",
      "  atac.obs['cell_type'][i] = celltype\n"
     ]
    }
   ],
   "source": [
    "mdata.obs['cell_type'] = ['none']*mdata.shape[0]\n",
    "rna.obs['cell_type'] = ['none']*mdata.shape[0]\n",
    "atac.obs['cell_type'] = ['none']*mdata.shape[0]\n",
    "for i in range(mdata.shape[0]):\n",
    "    barcode = mdata.obs_names[i]\n",
    "    celltype = df[df['barcode']==barcode]['celltype'].values[0] if len(df[df['barcode']==barcode]['celltype'].values)>0 else 'none'\n",
    "    mdata.obs['cell_type'][i] = celltype\n",
    "    rna.obs['cell_type'][i] = celltype\n",
    "    atac.obs['cell_type'][i] = celltype\n",
    "\n",
    "# mdata[mdata.obs['cell_type']!='none']"
   ]
  },
  {
   "cell_type": "code",
   "execution_count": 112,
   "metadata": {},
   "outputs": [],
   "source": [
    "atac = atac[(mdata.obs['cell_type']!='none').values]\n",
    "rna = rna[(mdata.obs['cell_type']!='none').values]"
   ]
  },
  {
   "cell_type": "code",
   "execution_count": 113,
   "metadata": {},
   "outputs": [
    {
     "data": {
      "text/html": [
       "<pre>MuData object with n_obs × n_vars = 11898 × 180488\n",
       "  obs:\t&#x27;cell_type&#x27;\n",
       "  var:\t&#x27;gene_ids&#x27;, &#x27;feature_types&#x27;, &#x27;genome&#x27;, &#x27;interval&#x27;\n",
       "  2 modalities\n",
       "    rna:\t10032 x 22017\n",
       "      obs:\t&#x27;n_genes_by_counts&#x27;, &#x27;total_counts&#x27;, &#x27;total_counts_mt&#x27;, &#x27;pct_counts_mt&#x27;, &#x27;cell_type&#x27;\n",
       "      var:\t&#x27;gene_ids&#x27;, &#x27;feature_types&#x27;, &#x27;genome&#x27;, &#x27;interval&#x27;, &#x27;mt&#x27;, &#x27;n_cells_by_counts&#x27;, &#x27;mean_counts&#x27;, &#x27;pct_dropout_by_counts&#x27;, &#x27;total_counts&#x27;\n",
       "    atac:\t10032 x 42870\n",
       "      obs:\t&#x27;n_genes_by_counts&#x27;, &#x27;total_counts&#x27;, &#x27;cell_type&#x27;\n",
       "      var:\t&#x27;gene_ids&#x27;, &#x27;feature_types&#x27;, &#x27;genome&#x27;, &#x27;interval&#x27;, &#x27;n_cells_by_counts&#x27;, &#x27;mean_counts&#x27;, &#x27;pct_dropout_by_counts&#x27;, &#x27;total_counts&#x27;</pre>"
      ],
      "text/plain": [
       "MuData object with n_obs × n_vars = 11898 × 180488\n",
       "  obs:\t'cell_type'\n",
       "  var:\t'gene_ids', 'feature_types', 'genome', 'interval'\n",
       "  2 modalities\n",
       "    rna:\t10032 x 22017\n",
       "      obs:\t'n_genes_by_counts', 'total_counts', 'total_counts_mt', 'pct_counts_mt', 'cell_type'\n",
       "      var:\t'gene_ids', 'feature_types', 'genome', 'interval', 'mt', 'n_cells_by_counts', 'mean_counts', 'pct_dropout_by_counts', 'total_counts'\n",
       "    atac:\t10032 x 42870\n",
       "      obs:\t'n_genes_by_counts', 'total_counts', 'cell_type'\n",
       "      var:\t'gene_ids', 'feature_types', 'genome', 'interval', 'n_cells_by_counts', 'mean_counts', 'pct_dropout_by_counts', 'total_counts'"
      ]
     },
     "execution_count": 113,
     "metadata": {},
     "output_type": "execute_result"
    }
   ],
   "source": [
    "mdata.mod['rna']=rna\n",
    "mdata.mod['atac']=atac\n",
    "mdata"
   ]
  },
  {
   "cell_type": "code",
   "execution_count": 114,
   "metadata": {},
   "outputs": [
    {
     "name": "stderr",
     "output_type": "stream",
     "text": [
      "/home/lep/miniconda3/envs/mm-diffusion/lib/python3.8/site-packages/anndata/_core/anndata.py:1235: ImplicitModificationWarning: Trying to modify attribute `.obs` of view, initializing view as actual.\n",
      "  df[key] = c\n",
      "/home/lep/miniconda3/envs/mm-diffusion/lib/python3.8/site-packages/anndata/_core/anndata.py:1235: ImplicitModificationWarning: Trying to modify attribute `.var` of view, initializing view as actual.\n",
      "  df[key] = c\n",
      "/home/lep/miniconda3/envs/mm-diffusion/lib/python3.8/site-packages/anndata/_core/anndata.py:1235: ImplicitModificationWarning: Trying to modify attribute `.var` of view, initializing view as actual.\n",
      "  df[key] = c\n",
      "/home/lep/miniconda3/envs/mm-diffusion/lib/python3.8/site-packages/anndata/_core/anndata.py:1235: ImplicitModificationWarning: Trying to modify attribute `.obs` of view, initializing view as actual.\n",
      "  df[key] = c\n",
      "/home/lep/miniconda3/envs/mm-diffusion/lib/python3.8/site-packages/mudata/_core/mudata.py:578: FutureWarning: In a future version, `df.iloc[:, i] = newvals` will attempt to set the values inplace instead of always setting a new array. To retain the old behavior, use either `df[df.columns[i]] = newvals` or, if columns are non-unique, `df.isetitem(i, newvals)`\n",
      "  data_mod.loc[:, colname] = col\n",
      "/home/lep/miniconda3/envs/mm-diffusion/lib/python3.8/site-packages/mudata/_core/mudata.py:578: FutureWarning: In a future version, `df.iloc[:, i] = newvals` will attempt to set the values inplace instead of always setting a new array. To retain the old behavior, use either `df[df.columns[i]] = newvals` or, if columns are non-unique, `df.isetitem(i, newvals)`\n",
      "  data_mod.loc[:, colname] = col\n"
     ]
    }
   ],
   "source": [
    "mu.write(\"/stor/lep/data/pbmc10k_multiome/pbmc10k_filtered2.h5mu\", mdata)\n",
    "# mu.write(\"/stor/lep/diffusion/multiome/openproblem_filtered.h5mu\", mdata)"
   ]
  },
  {
   "cell_type": "code",
   "execution_count": 119,
   "metadata": {},
   "outputs": [
    {
     "name": "stderr",
     "output_type": "stream",
     "text": [
      "/home/lep/miniconda3/envs/mm-diffusion/lib/python3.8/site-packages/mudata/_core/mudata.py:578: FutureWarning: In a future version, `df.iloc[:, i] = newvals` will attempt to set the values inplace instead of always setting a new array. To retain the old behavior, use either `df[df.columns[i]] = newvals` or, if columns are non-unique, `df.isetitem(i, newvals)`\n",
      "  data_mod.loc[:, colname] = col\n",
      "/home/lep/miniconda3/envs/mm-diffusion/lib/python3.8/site-packages/mudata/_core/mudata.py:578: FutureWarning: In a future version, `df.iloc[:, i] = newvals` will attempt to set the values inplace instead of always setting a new array. To retain the old behavior, use either `df[df.columns[i]] = newvals` or, if columns are non-unique, `df.isetitem(i, newvals)`\n",
      "  data_mod.loc[:, colname] = col\n"
     ]
    },
    {
     "data": {
      "text/html": [
       "<pre>MuData object with n_obs × n_vars = 8000 × 65690\n",
       "  2 modalities\n",
       "    rna:\t8000 x 25604\n",
       "      obs:\t&#x27;cell_type&#x27;, &#x27;n_genes&#x27;, &#x27;n_genes_by_counts&#x27;, &#x27;log1p_n_genes_by_counts&#x27;, &#x27;total_counts&#x27;, &#x27;log1p_total_counts&#x27;, &#x27;total_counts_mt&#x27;, &#x27;log1p_total_counts_mt&#x27;, &#x27;pct_counts_mt&#x27;\n",
       "      var:\t&#x27;gene_ids&#x27;, &#x27;feature_types&#x27;, &#x27;genome&#x27;, &#x27;n_cells&#x27;, &#x27;mt&#x27;, &#x27;n_cells_by_counts&#x27;, &#x27;mean_counts&#x27;, &#x27;log1p_mean_counts&#x27;, &#x27;pct_dropout_by_counts&#x27;, &#x27;total_counts&#x27;, &#x27;log1p_total_counts&#x27;\n",
       "      uns:\t&#x27;cell_type_colors&#x27;, &#x27;neighbors&#x27;, &#x27;pca&#x27;, &#x27;umap&#x27;\n",
       "      obsm:\t&#x27;X_pca&#x27;, &#x27;X_umap&#x27;\n",
       "      varm:\t&#x27;PCs&#x27;\n",
       "      layers:\t&#x27;X_counts&#x27;, &#x27;count&#x27;\n",
       "      obsp:\t&#x27;connectivities&#x27;, &#x27;distances&#x27;\n",
       "    atac:\t8000 x 40086\n",
       "      obs:\t&#x27;cell_type&#x27;\n",
       "      uns:\t&#x27;cell_type_colors&#x27;, &#x27;neighbors&#x27;, &#x27;pca&#x27;, &#x27;umap&#x27;\n",
       "      obsm:\t&#x27;X_pca&#x27;, &#x27;X_umap&#x27;\n",
       "      varm:\t&#x27;PCs&#x27;\n",
       "      layers:\t&#x27;X_counts&#x27;, &#x27;cpm_norm&#x27;, &#x27;tf-idf&#x27;\n",
       "      obsp:\t&#x27;connectivities&#x27;, &#x27;distances&#x27;</pre>"
      ],
      "text/plain": [
       "MuData object with n_obs × n_vars = 8000 × 65690\n",
       "  2 modalities\n",
       "    rna:\t8000 x 25604\n",
       "      obs:\t'cell_type', 'n_genes', 'n_genes_by_counts', 'log1p_n_genes_by_counts', 'total_counts', 'log1p_total_counts', 'total_counts_mt', 'log1p_total_counts_mt', 'pct_counts_mt'\n",
       "      var:\t'gene_ids', 'feature_types', 'genome', 'n_cells', 'mt', 'n_cells_by_counts', 'mean_counts', 'log1p_mean_counts', 'pct_dropout_by_counts', 'total_counts', 'log1p_total_counts'\n",
       "      uns:\t'cell_type_colors', 'neighbors', 'pca', 'umap'\n",
       "      obsm:\t'X_pca', 'X_umap'\n",
       "      varm:\t'PCs'\n",
       "      layers:\t'X_counts', 'count'\n",
       "      obsp:\t'connectivities', 'distances'\n",
       "    atac:\t8000 x 40086\n",
       "      obs:\t'cell_type'\n",
       "      uns:\t'cell_type_colors', 'neighbors', 'pca', 'umap'\n",
       "      obsm:\t'X_pca', 'X_umap'\n",
       "      varm:\t'PCs'\n",
       "      layers:\t'X_counts', 'cpm_norm', 'tf-idf'\n",
       "      obsp:\t'connectivities', 'distances'"
      ]
     },
     "execution_count": 119,
     "metadata": {},
     "output_type": "execute_result"
    }
   ],
   "source": [
    "mdata = mu.read_h5mu('/stor/lep/data/pbmc10k_multiome/cfgen/pbmc10k_multiome_train.h5mu')\n",
    "mdata"
   ]
  },
  {
   "cell_type": "code",
   "execution_count": 120,
   "metadata": {},
   "outputs": [
    {
     "name": "stderr",
     "output_type": "stream",
     "text": [
      "/home/lep/miniconda3/envs/mm-diffusion/lib/python3.8/site-packages/mudata/_core/mudata.py:578: FutureWarning: In a future version, `df.iloc[:, i] = newvals` will attempt to set the values inplace instead of always setting a new array. To retain the old behavior, use either `df[df.columns[i]] = newvals` or, if columns are non-unique, `df.isetitem(i, newvals)`\n",
      "  data_mod.loc[:, colname] = col\n",
      "/home/lep/miniconda3/envs/mm-diffusion/lib/python3.8/site-packages/mudata/_core/mudata.py:578: FutureWarning: In a future version, `df.iloc[:, i] = newvals` will attempt to set the values inplace instead of always setting a new array. To retain the old behavior, use either `df[df.columns[i]] = newvals` or, if columns are non-unique, `df.isetitem(i, newvals)`\n",
      "  data_mod.loc[:, colname] = col\n"
     ]
    },
    {
     "data": {
      "text/html": [
       "<pre>MuData object with n_obs × n_vars = 2000 × 65690\n",
       "  2 modalities\n",
       "    rna:\t2000 x 25604\n",
       "      obs:\t&#x27;cell_type&#x27;, &#x27;n_genes&#x27;, &#x27;n_genes_by_counts&#x27;, &#x27;log1p_n_genes_by_counts&#x27;, &#x27;total_counts&#x27;, &#x27;log1p_total_counts&#x27;, &#x27;total_counts_mt&#x27;, &#x27;log1p_total_counts_mt&#x27;, &#x27;pct_counts_mt&#x27;\n",
       "      var:\t&#x27;gene_ids&#x27;, &#x27;feature_types&#x27;, &#x27;genome&#x27;, &#x27;n_cells&#x27;, &#x27;mt&#x27;, &#x27;n_cells_by_counts&#x27;, &#x27;mean_counts&#x27;, &#x27;log1p_mean_counts&#x27;, &#x27;pct_dropout_by_counts&#x27;, &#x27;total_counts&#x27;, &#x27;log1p_total_counts&#x27;\n",
       "      uns:\t&#x27;cell_type_colors&#x27;, &#x27;neighbors&#x27;, &#x27;pca&#x27;, &#x27;umap&#x27;\n",
       "      obsm:\t&#x27;X_pca&#x27;, &#x27;X_umap&#x27;\n",
       "      varm:\t&#x27;PCs&#x27;\n",
       "      layers:\t&#x27;X_counts&#x27;, &#x27;count&#x27;\n",
       "      obsp:\t&#x27;connectivities&#x27;, &#x27;distances&#x27;\n",
       "    atac:\t2000 x 40086\n",
       "      obs:\t&#x27;cell_type&#x27;\n",
       "      uns:\t&#x27;cell_type_colors&#x27;, &#x27;neighbors&#x27;, &#x27;pca&#x27;, &#x27;umap&#x27;\n",
       "      obsm:\t&#x27;X_pca&#x27;, &#x27;X_umap&#x27;\n",
       "      varm:\t&#x27;PCs&#x27;\n",
       "      layers:\t&#x27;X_counts&#x27;, &#x27;cpm_norm&#x27;, &#x27;tf-idf&#x27;\n",
       "      obsp:\t&#x27;connectivities&#x27;, &#x27;distances&#x27;</pre>"
      ],
      "text/plain": [
       "MuData object with n_obs × n_vars = 2000 × 65690\n",
       "  2 modalities\n",
       "    rna:\t2000 x 25604\n",
       "      obs:\t'cell_type', 'n_genes', 'n_genes_by_counts', 'log1p_n_genes_by_counts', 'total_counts', 'log1p_total_counts', 'total_counts_mt', 'log1p_total_counts_mt', 'pct_counts_mt'\n",
       "      var:\t'gene_ids', 'feature_types', 'genome', 'n_cells', 'mt', 'n_cells_by_counts', 'mean_counts', 'log1p_mean_counts', 'pct_dropout_by_counts', 'total_counts', 'log1p_total_counts'\n",
       "      uns:\t'cell_type_colors', 'neighbors', 'pca', 'umap'\n",
       "      obsm:\t'X_pca', 'X_umap'\n",
       "      varm:\t'PCs'\n",
       "      layers:\t'X_counts', 'count'\n",
       "      obsp:\t'connectivities', 'distances'\n",
       "    atac:\t2000 x 40086\n",
       "      obs:\t'cell_type'\n",
       "      uns:\t'cell_type_colors', 'neighbors', 'pca', 'umap'\n",
       "      obsm:\t'X_pca', 'X_umap'\n",
       "      varm:\t'PCs'\n",
       "      layers:\t'X_counts', 'cpm_norm', 'tf-idf'\n",
       "      obsp:\t'connectivities', 'distances'"
      ]
     },
     "execution_count": 120,
     "metadata": {},
     "output_type": "execute_result"
    }
   ],
   "source": [
    "mdata2 = mu.read_h5mu('/stor/lep/data/pbmc10k_multiome/cfgen/pbmc10k_multiome_test.h5mu')\n",
    "mdata2"
   ]
  },
  {
   "cell_type": "markdown",
   "metadata": {},
   "source": [
    "generate h5ad"
   ]
  },
  {
   "cell_type": "code",
   "execution_count": 116,
   "metadata": {},
   "outputs": [
    {
     "data": {
      "text/plain": [
       "AnnData object with n_obs × n_vars = 10032 × 64887\n",
       "    var: 'gene_ids', 'feature_types', 'genome', 'interval', 'n_cells_by_counts', 'mean_counts', 'pct_dropout_by_counts', 'total_counts'"
      ]
     },
     "execution_count": 116,
     "metadata": {},
     "output_type": "execute_result"
    }
   ],
   "source": [
    "adata = ad.concat((rna,atac),axis=1, join='inner')\n",
    "adata"
   ]
  },
  {
   "cell_type": "code",
   "execution_count": 117,
   "metadata": {},
   "outputs": [
    {
     "name": "stderr",
     "output_type": "stream",
     "text": [
      "/tmp/ipykernel_2914482/2986023047.py:3: SettingWithCopyWarning: \n",
      "A value is trying to be set on a copy of a slice from a DataFrame\n",
      "\n",
      "See the caveats in the documentation: https://pandas.pydata.org/pandas-docs/stable/user_guide/indexing.html#returning-a-view-versus-a-copy\n",
      "  adata.var.feature_types[:22017] = ['GEX']*22017\n",
      "/tmp/ipykernel_2914482/2986023047.py:4: SettingWithCopyWarning: \n",
      "A value is trying to be set on a copy of a slice from a DataFrame\n",
      "\n",
      "See the caveats in the documentation: https://pandas.pydata.org/pandas-docs/stable/user_guide/indexing.html#returning-a-view-versus-a-copy\n",
      "  adata.var.feature_types[22017:] = ['ATAC']*42870\n"
     ]
    },
    {
     "data": {
      "text/plain": [
       "AnnData object with n_obs × n_vars = 10032 × 64887\n",
       "    obs: 'cell_type'\n",
       "    var: 'gene_ids', 'feature_types', 'genome', 'interval', 'n_cells_by_counts', 'mean_counts', 'pct_dropout_by_counts', 'total_counts'"
      ]
     },
     "execution_count": 117,
     "metadata": {},
     "output_type": "execute_result"
    }
   ],
   "source": [
    "adata.obs['cell_type'] = rna.obs['cell_type']\n",
    "\n",
    "adata.var.feature_types[:22017] = ['GEX']*22017\n",
    "adata.var.feature_types[22017:] = ['ATAC']*42870\n",
    "adata"
   ]
  },
  {
   "cell_type": "code",
   "execution_count": 118,
   "metadata": {},
   "outputs": [],
   "source": [
    "adata.write_h5ad('/stor/lep/data/pbmc10k_multiome/pbmc10k_filtered2.h5ad')\n",
    "# rna.write_h5ad('/stor/lep/data/pbmc10k_multiome/pbmc10k_RNA.h5ad')\n",
    "# atac.write_h5ad('/stor/lep/data/pbmc10k_multiome/pbmc10k_ATAC.h5ad')\n",
    "\n",
    "\n",
    "# adata.write_h5ad('/stor/lep/diffusion/multiome/GSE194122_openproblems_neurips2021_multiome_BMMC_processed_filtered.h5ad')\n",
    "# rna.write_h5ad('/stor/lep/diffusion/multiome/openproblems_RNA_new.h5ad')\n",
    "# atac.write_h5ad('/stor/lep/diffusion/multiome/openproblems_ATAC_new.h5ad')"
   ]
  },
  {
   "cell_type": "code",
   "execution_count": 2,
   "metadata": {},
   "outputs": [
    {
     "name": "stderr",
     "output_type": "stream",
     "text": [
      "/home/lep/miniconda3/envs/mm-diffusion/lib/python3.8/site-packages/mudata/_core/mudata.py:578: FutureWarning: In a future version, `df.iloc[:, i] = newvals` will attempt to set the values inplace instead of always setting a new array. To retain the old behavior, use either `df[df.columns[i]] = newvals` or, if columns are non-unique, `df.isetitem(i, newvals)`\n",
      "  data_mod.loc[:, colname] = col\n",
      "/home/lep/miniconda3/envs/mm-diffusion/lib/python3.8/site-packages/mudata/_core/mudata.py:578: FutureWarning: In a future version, `df.iloc[:, i] = newvals` will attempt to set the values inplace instead of always setting a new array. To retain the old behavior, use either `df[df.columns[i]] = newvals` or, if columns are non-unique, `df.isetitem(i, newvals)`\n",
      "  data_mod.loc[:, colname] = col\n"
     ]
    },
    {
     "data": {
      "text/html": [
       "<pre>MuData object with n_obs × n_vars = 69249 × 49984\n",
       "  var:\t&#x27;feature_types&#x27;, &#x27;gene_id&#x27;, &#x27;n_cells_by_counts&#x27;, &#x27;mean_counts&#x27;, &#x27;pct_dropout_by_counts&#x27;, &#x27;total_counts&#x27;\n",
       "  2 modalities\n",
       "    atac:\t69249 x 36553\n",
       "      obs:\t&#x27;GEX_pct_counts_mt&#x27;, &#x27;GEX_n_counts&#x27;, &#x27;GEX_n_genes&#x27;, &#x27;GEX_size_factors&#x27;, &#x27;GEX_phase&#x27;, &#x27;ATAC_nCount_peaks&#x27;, &#x27;ATAC_atac_fragments&#x27;, &#x27;ATAC_reads_in_peaks_frac&#x27;, &#x27;ATAC_blacklist_fraction&#x27;, &#x27;ATAC_nucleosome_signal&#x27;, &#x27;cell_type&#x27;, &#x27;batch&#x27;, &#x27;ATAC_pseudotime_order&#x27;, &#x27;GEX_pseudotime_order&#x27;, &#x27;Samplename&#x27;, &#x27;Site&#x27;, &#x27;DonorNumber&#x27;, &#x27;Modality&#x27;, &#x27;VendorLot&#x27;, &#x27;DonorID&#x27;, &#x27;DonorAge&#x27;, &#x27;DonorBMI&#x27;, &#x27;DonorBloodType&#x27;, &#x27;DonorRace&#x27;, &#x27;Ethnicity&#x27;, &#x27;DonorGender&#x27;, &#x27;QCMeds&#x27;, &#x27;DonorSmoker&#x27;, &#x27;ATAC_umap1&#x27;, &#x27;ATAC_umap2&#x27;, &#x27;n_genes_by_counts&#x27;, &#x27;total_counts&#x27;\n",
       "      var:\t&#x27;feature_types&#x27;, &#x27;gene_id&#x27;, &#x27;n_cells_by_counts&#x27;, &#x27;mean_counts&#x27;, &#x27;pct_dropout_by_counts&#x27;, &#x27;total_counts&#x27;\n",
       "      uns:\t&#x27;ATAC_gene_activity_var_names&#x27;, &#x27;dataset_id&#x27;, &#x27;genome&#x27;, &#x27;organism&#x27;\n",
       "      obsm:\t&#x27;ATAC_gene_activity&#x27;, &#x27;ATAC_lsi_full&#x27;, &#x27;ATAC_lsi_red&#x27;, &#x27;ATAC_umap&#x27;, &#x27;GEX_X_pca&#x27;, &#x27;GEX_X_umap&#x27;\n",
       "      layers:\t&#x27;counts&#x27;\n",
       "    rna:\t69249 x 13431\n",
       "      obs:\t&#x27;GEX_pct_counts_mt&#x27;, &#x27;GEX_n_counts&#x27;, &#x27;GEX_n_genes&#x27;, &#x27;GEX_size_factors&#x27;, &#x27;GEX_phase&#x27;, &#x27;ATAC_nCount_peaks&#x27;, &#x27;ATAC_atac_fragments&#x27;, &#x27;ATAC_reads_in_peaks_frac&#x27;, &#x27;ATAC_blacklist_fraction&#x27;, &#x27;ATAC_nucleosome_signal&#x27;, &#x27;cell_type&#x27;, &#x27;batch&#x27;, &#x27;ATAC_pseudotime_order&#x27;, &#x27;GEX_pseudotime_order&#x27;, &#x27;Samplename&#x27;, &#x27;Site&#x27;, &#x27;DonorNumber&#x27;, &#x27;Modality&#x27;, &#x27;VendorLot&#x27;, &#x27;DonorID&#x27;, &#x27;DonorAge&#x27;, &#x27;DonorBMI&#x27;, &#x27;DonorBloodType&#x27;, &#x27;DonorRace&#x27;, &#x27;Ethnicity&#x27;, &#x27;DonorGender&#x27;, &#x27;QCMeds&#x27;, &#x27;DonorSmoker&#x27;, &#x27;GEX_X_umap1&#x27;, &#x27;GEX_X_umap2&#x27;, &#x27;n_genes_by_counts&#x27;, &#x27;total_counts&#x27;, &#x27;total_counts_mt&#x27;, &#x27;pct_counts_mt&#x27;\n",
       "      var:\t&#x27;feature_types&#x27;, &#x27;gene_id&#x27;, &#x27;mt&#x27;, &#x27;n_cells_by_counts&#x27;, &#x27;mean_counts&#x27;, &#x27;pct_dropout_by_counts&#x27;, &#x27;total_counts&#x27;\n",
       "      uns:\t&#x27;ATAC_gene_activity_var_names&#x27;, &#x27;dataset_id&#x27;, &#x27;genome&#x27;, &#x27;organism&#x27;\n",
       "      obsm:\t&#x27;ATAC_gene_activity&#x27;, &#x27;ATAC_lsi_full&#x27;, &#x27;ATAC_lsi_red&#x27;, &#x27;ATAC_umap&#x27;, &#x27;GEX_X_pca&#x27;, &#x27;GEX_X_umap&#x27;\n",
       "      layers:\t&#x27;counts&#x27;</pre>"
      ],
      "text/plain": [
       "MuData object with n_obs × n_vars = 69249 × 49984\n",
       "  var:\t'feature_types', 'gene_id', 'n_cells_by_counts', 'mean_counts', 'pct_dropout_by_counts', 'total_counts'\n",
       "  2 modalities\n",
       "    atac:\t69249 x 36553\n",
       "      obs:\t'GEX_pct_counts_mt', 'GEX_n_counts', 'GEX_n_genes', 'GEX_size_factors', 'GEX_phase', 'ATAC_nCount_peaks', 'ATAC_atac_fragments', 'ATAC_reads_in_peaks_frac', 'ATAC_blacklist_fraction', 'ATAC_nucleosome_signal', 'cell_type', 'batch', 'ATAC_pseudotime_order', 'GEX_pseudotime_order', 'Samplename', 'Site', 'DonorNumber', 'Modality', 'VendorLot', 'DonorID', 'DonorAge', 'DonorBMI', 'DonorBloodType', 'DonorRace', 'Ethnicity', 'DonorGender', 'QCMeds', 'DonorSmoker', 'ATAC_umap1', 'ATAC_umap2', 'n_genes_by_counts', 'total_counts'\n",
       "      var:\t'feature_types', 'gene_id', 'n_cells_by_counts', 'mean_counts', 'pct_dropout_by_counts', 'total_counts'\n",
       "      uns:\t'ATAC_gene_activity_var_names', 'dataset_id', 'genome', 'organism'\n",
       "      obsm:\t'ATAC_gene_activity', 'ATAC_lsi_full', 'ATAC_lsi_red', 'ATAC_umap', 'GEX_X_pca', 'GEX_X_umap'\n",
       "      layers:\t'counts'\n",
       "    rna:\t69249 x 13431\n",
       "      obs:\t'GEX_pct_counts_mt', 'GEX_n_counts', 'GEX_n_genes', 'GEX_size_factors', 'GEX_phase', 'ATAC_nCount_peaks', 'ATAC_atac_fragments', 'ATAC_reads_in_peaks_frac', 'ATAC_blacklist_fraction', 'ATAC_nucleosome_signal', 'cell_type', 'batch', 'ATAC_pseudotime_order', 'GEX_pseudotime_order', 'Samplename', 'Site', 'DonorNumber', 'Modality', 'VendorLot', 'DonorID', 'DonorAge', 'DonorBMI', 'DonorBloodType', 'DonorRace', 'Ethnicity', 'DonorGender', 'QCMeds', 'DonorSmoker', 'GEX_X_umap1', 'GEX_X_umap2', 'n_genes_by_counts', 'total_counts', 'total_counts_mt', 'pct_counts_mt'\n",
       "      var:\t'feature_types', 'gene_id', 'mt', 'n_cells_by_counts', 'mean_counts', 'pct_dropout_by_counts', 'total_counts'\n",
       "      uns:\t'ATAC_gene_activity_var_names', 'dataset_id', 'genome', 'organism'\n",
       "      obsm:\t'ATAC_gene_activity', 'ATAC_lsi_full', 'ATAC_lsi_red', 'ATAC_umap', 'GEX_X_pca', 'GEX_X_umap'\n",
       "      layers:\t'counts'"
      ]
     },
     "execution_count": 2,
     "metadata": {},
     "output_type": "execute_result"
    }
   ],
   "source": [
    "mdata = mu.read_h5mu('/stor/lep/diffusion/multiome/openproblem_filtered.h5mu')\n",
    "mdata"
   ]
  },
  {
   "cell_type": "code",
   "execution_count": 6,
   "metadata": {},
   "outputs": [],
   "source": [
    "mdata['rna'].write_h5ad('/stor/lep/diffusion/multiome/openproblems_RNA_filterd.h5ad')\n",
    "mdata['atac'].write_h5ad('/stor/lep/diffusion/multiome/openproblems_ATAC_filterd.h5ad')"
   ]
  },
  {
   "cell_type": "markdown",
   "metadata": {},
   "source": [
    "generated babel dataset"
   ]
  },
  {
   "cell_type": "code",
   "execution_count": 110,
   "metadata": {},
   "outputs": [
    {
     "name": "stderr",
     "output_type": "stream",
     "text": [
      "/home/lep/miniconda3/envs/mm-diffusion/lib/python3.8/site-packages/mudata/_core/mudata.py:578: FutureWarning: In a future version, `df.iloc[:, i] = newvals` will attempt to set the values inplace instead of always setting a new array. To retain the old behavior, use either `df[df.columns[i]] = newvals` or, if columns are non-unique, `df.isetitem(i, newvals)`\n",
      "  data_mod.loc[:, colname] = col\n",
      "/home/lep/miniconda3/envs/mm-diffusion/lib/python3.8/site-packages/mudata/_core/mudata.py:578: FutureWarning: In a future version, `df.iloc[:, i] = newvals` will attempt to set the values inplace instead of always setting a new array. To retain the old behavior, use either `df[df.columns[i]] = newvals` or, if columns are non-unique, `df.isetitem(i, newvals)`\n",
      "  data_mod.loc[:, colname] = col\n"
     ]
    },
    {
     "data": {
      "text/html": [
       "<pre>MuData object with n_obs × n_vars = 28363 × 258758\n",
       "  var:\t&#x27;chrom&#x27;, &#x27;n_counts&#x27;, &#x27;log1p_counts&#x27;, &#x27;n_cells&#x27;\n",
       "  2 modalities\n",
       "    rna:\t28363 x 34861\n",
       "      obs:\t&#x27;batch&#x27;, &#x27;source_file&#x27;, &#x27;n_counts&#x27;, &#x27;log1p_counts&#x27;, &#x27;n_genes&#x27;, &#x27;size_factors&#x27;, &#x27;leiden&#x27;, &#x27;louvain&#x27;\n",
       "      var:\t&#x27;gene_ids&#x27;, &#x27;feature_types&#x27;, &#x27;genome&#x27;, &#x27;chrom&#x27;, &#x27;n_counts&#x27;, &#x27;log1p_counts&#x27;, &#x27;n_cells&#x27;\n",
       "      uns:\t&#x27;median_counts&#x27;\n",
       "      layers:\t&#x27;row_counts&#x27;\n",
       "    atac:\t28363 x 223897\n",
       "      obs:\t&#x27;batch&#x27;, &#x27;source_file&#x27;, &#x27;n_counts&#x27;, &#x27;log1p_counts&#x27;, &#x27;n_genes&#x27;, &#x27;size_factors&#x27;, &#x27;leiden&#x27;, &#x27;louvain&#x27;\n",
       "      var:\t&#x27;chrom&#x27;, &#x27;n_counts&#x27;, &#x27;log1p_counts&#x27;, &#x27;n_cells&#x27;\n",
       "      uns:\t&#x27;median_counts&#x27;\n",
       "      layers:\t&#x27;row_counts&#x27;</pre>"
      ],
      "text/plain": [
       "MuData object with n_obs × n_vars = 28363 × 258758\n",
       "  var:\t'chrom', 'n_counts', 'log1p_counts', 'n_cells'\n",
       "  2 modalities\n",
       "    rna:\t28363 x 34861\n",
       "      obs:\t'batch', 'source_file', 'n_counts', 'log1p_counts', 'n_genes', 'size_factors', 'leiden', 'louvain'\n",
       "      var:\t'gene_ids', 'feature_types', 'genome', 'chrom', 'n_counts', 'log1p_counts', 'n_cells'\n",
       "      uns:\t'median_counts'\n",
       "      layers:\t'row_counts'\n",
       "    atac:\t28363 x 223897\n",
       "      obs:\t'batch', 'source_file', 'n_counts', 'log1p_counts', 'n_genes', 'size_factors', 'leiden', 'louvain'\n",
       "      var:\t'chrom', 'n_counts', 'log1p_counts', 'n_cells'\n",
       "      uns:\t'median_counts'\n",
       "      layers:\t'row_counts'"
      ]
     },
     "execution_count": 110,
     "metadata": {},
     "output_type": "execute_result"
    }
   ],
   "source": [
    "adata_rna_train = sc.read_h5ad('/stor/lep/workspace/multi_diffusion/my_model/train_rna.h5ad')\n",
    "adata_atac_train = sc.read_h5ad('/stor/lep/workspace/multi_diffusion/my_model/train_atac.h5ad')\n",
    "adata_rna_train.X = adata_rna_train.layers['row_counts']\n",
    "adata_atac_train.X = adata_atac_train.layers['row_counts']\n",
    "\n",
    "mdata_train = mu.MuData({'rna':adata_rna_train,'atac':adata_atac_train})\n",
    "# mdata_train.write_h5mu('/stor/lep/data/BABEL/train.h5mu')\n",
    "mdata_train"
   ]
  },
  {
   "cell_type": "code",
   "execution_count": 111,
   "metadata": {},
   "outputs": [
    {
     "name": "stderr",
     "output_type": "stream",
     "text": [
      "/home/lep/miniconda3/envs/mm-diffusion/lib/python3.8/site-packages/mudata/_core/mudata.py:578: FutureWarning: In a future version, `df.iloc[:, i] = newvals` will attempt to set the values inplace instead of always setting a new array. To retain the old behavior, use either `df[df.columns[i]] = newvals` or, if columns are non-unique, `df.isetitem(i, newvals)`\n",
      "  data_mod.loc[:, colname] = col\n",
      "/home/lep/miniconda3/envs/mm-diffusion/lib/python3.8/site-packages/mudata/_core/mudata.py:578: FutureWarning: In a future version, `df.iloc[:, i] = newvals` will attempt to set the values inplace instead of always setting a new array. To retain the old behavior, use either `df[df.columns[i]] = newvals` or, if columns are non-unique, `df.isetitem(i, newvals)`\n",
      "  data_mod.loc[:, colname] = col\n"
     ]
    },
    {
     "data": {
      "text/html": [
       "<pre>MuData object with n_obs × n_vars = 2901 × 258758\n",
       "  var:\t&#x27;chrom&#x27;, &#x27;n_counts&#x27;, &#x27;log1p_counts&#x27;, &#x27;n_cells&#x27;\n",
       "  2 modalities\n",
       "    rna:\t2901 x 34861\n",
       "      obs:\t&#x27;batch&#x27;, &#x27;source_file&#x27;, &#x27;n_counts&#x27;, &#x27;log1p_counts&#x27;, &#x27;n_genes&#x27;, &#x27;size_factors&#x27;, &#x27;leiden&#x27;, &#x27;louvain&#x27;\n",
       "      var:\t&#x27;gene_ids&#x27;, &#x27;feature_types&#x27;, &#x27;genome&#x27;, &#x27;chrom&#x27;, &#x27;n_counts&#x27;, &#x27;log1p_counts&#x27;, &#x27;n_cells&#x27;\n",
       "      uns:\t&#x27;median_counts&#x27;\n",
       "      layers:\t&#x27;row_counts&#x27;\n",
       "    atac:\t2901 x 223897\n",
       "      obs:\t&#x27;batch&#x27;, &#x27;source_file&#x27;, &#x27;n_counts&#x27;, &#x27;log1p_counts&#x27;, &#x27;n_genes&#x27;, &#x27;size_factors&#x27;, &#x27;leiden&#x27;, &#x27;louvain&#x27;\n",
       "      var:\t&#x27;chrom&#x27;, &#x27;n_counts&#x27;, &#x27;log1p_counts&#x27;, &#x27;n_cells&#x27;\n",
       "      uns:\t&#x27;median_counts&#x27;\n",
       "      layers:\t&#x27;row_counts&#x27;</pre>"
      ],
      "text/plain": [
       "MuData object with n_obs × n_vars = 2901 × 258758\n",
       "  var:\t'chrom', 'n_counts', 'log1p_counts', 'n_cells'\n",
       "  2 modalities\n",
       "    rna:\t2901 x 34861\n",
       "      obs:\t'batch', 'source_file', 'n_counts', 'log1p_counts', 'n_genes', 'size_factors', 'leiden', 'louvain'\n",
       "      var:\t'gene_ids', 'feature_types', 'genome', 'chrom', 'n_counts', 'log1p_counts', 'n_cells'\n",
       "      uns:\t'median_counts'\n",
       "      layers:\t'row_counts'\n",
       "    atac:\t2901 x 223897\n",
       "      obs:\t'batch', 'source_file', 'n_counts', 'log1p_counts', 'n_genes', 'size_factors', 'leiden', 'louvain'\n",
       "      var:\t'chrom', 'n_counts', 'log1p_counts', 'n_cells'\n",
       "      uns:\t'median_counts'\n",
       "      layers:\t'row_counts'"
      ]
     },
     "execution_count": 111,
     "metadata": {},
     "output_type": "execute_result"
    }
   ],
   "source": [
    "adata_rna_valid = sc.read_h5ad('/stor/lep/workspace/multi_diffusion/my_model/valid_rna.h5ad')\n",
    "adata_atac_valid = sc.read_h5ad('/stor/lep/workspace/multi_diffusion/my_model/valid_atac.h5ad')\n",
    "adata_rna_valid.X = adata_rna_valid.layers['row_counts']\n",
    "adata_atac_valid.X = adata_atac_valid.layers['row_counts']\n",
    "\n",
    "mdata_valid = mu.MuData({'rna':adata_rna_valid,'atac':adata_atac_valid})\n",
    "# mdata_valid.write_h5mu('/stor/lep/data/BABEL/valid.h5mu')\n",
    "mdata_valid"
   ]
  },
  {
   "cell_type": "code",
   "execution_count": 116,
   "metadata": {},
   "outputs": [
    {
     "name": "stderr",
     "output_type": "stream",
     "text": [
      "/home/lep/miniconda3/envs/mm-diffusion/lib/python3.8/site-packages/mudata/_core/mudata.py:578: FutureWarning: In a future version, `df.iloc[:, i] = newvals` will attempt to set the values inplace instead of always setting a new array. To retain the old behavior, use either `df[df.columns[i]] = newvals` or, if columns are non-unique, `df.isetitem(i, newvals)`\n",
      "  data_mod.loc[:, colname] = col\n",
      "/home/lep/miniconda3/envs/mm-diffusion/lib/python3.8/site-packages/mudata/_core/mudata.py:578: FutureWarning: In a future version, `df.iloc[:, i] = newvals` will attempt to set the values inplace instead of always setting a new array. To retain the old behavior, use either `df[df.columns[i]] = newvals` or, if columns are non-unique, `df.isetitem(i, newvals)`\n",
      "  data_mod.loc[:, colname] = col\n"
     ]
    },
    {
     "data": {
      "text/html": [
       "<pre>MuData object with n_obs × n_vars = 2004 × 258758\n",
       "  var:\t&#x27;chrom&#x27;, &#x27;n_counts&#x27;, &#x27;log1p_counts&#x27;, &#x27;n_cells&#x27;\n",
       "  2 modalities\n",
       "    rna:\t2004 x 34861\n",
       "      obs:\t&#x27;batch&#x27;, &#x27;source_file&#x27;, &#x27;n_counts&#x27;, &#x27;log1p_counts&#x27;, &#x27;n_genes&#x27;, &#x27;size_factors&#x27;, &#x27;leiden&#x27;, &#x27;louvain&#x27;\n",
       "      var:\t&#x27;gene_ids&#x27;, &#x27;feature_types&#x27;, &#x27;genome&#x27;, &#x27;chrom&#x27;, &#x27;n_counts&#x27;, &#x27;log1p_counts&#x27;, &#x27;n_cells&#x27;\n",
       "      uns:\t&#x27;median_counts&#x27;\n",
       "      layers:\t&#x27;row_counts&#x27;\n",
       "    atac:\t2004 x 223897\n",
       "      obs:\t&#x27;batch&#x27;, &#x27;source_file&#x27;, &#x27;n_counts&#x27;, &#x27;log1p_counts&#x27;, &#x27;n_genes&#x27;, &#x27;size_factors&#x27;, &#x27;leiden&#x27;, &#x27;louvain&#x27;\n",
       "      var:\t&#x27;chrom&#x27;, &#x27;n_counts&#x27;, &#x27;log1p_counts&#x27;, &#x27;n_cells&#x27;\n",
       "      uns:\t&#x27;median_counts&#x27;\n",
       "      layers:\t&#x27;row_counts&#x27;</pre>"
      ],
      "text/plain": [
       "MuData object with n_obs × n_vars = 2004 × 258758\n",
       "  var:\t'chrom', 'n_counts', 'log1p_counts', 'n_cells'\n",
       "  2 modalities\n",
       "    rna:\t2004 x 34861\n",
       "      obs:\t'batch', 'source_file', 'n_counts', 'log1p_counts', 'n_genes', 'size_factors', 'leiden', 'louvain'\n",
       "      var:\t'gene_ids', 'feature_types', 'genome', 'chrom', 'n_counts', 'log1p_counts', 'n_cells'\n",
       "      uns:\t'median_counts'\n",
       "      layers:\t'row_counts'\n",
       "    atac:\t2004 x 223897\n",
       "      obs:\t'batch', 'source_file', 'n_counts', 'log1p_counts', 'n_genes', 'size_factors', 'leiden', 'louvain'\n",
       "      var:\t'chrom', 'n_counts', 'log1p_counts', 'n_cells'\n",
       "      uns:\t'median_counts'\n",
       "      layers:\t'row_counts'"
      ]
     },
     "execution_count": 116,
     "metadata": {},
     "output_type": "execute_result"
    }
   ],
   "source": [
    "adata_rna_test = sc.read_h5ad('/stor/lep/workspace/multi_diffusion/my_model/test_rna.h5ad')\n",
    "adata_atac_test = sc.read_h5ad('/stor/lep/workspace/multi_diffusion/my_model/test_atac.h5ad')\n",
    "adata_rna_test.X = adata_rna_test.layers['row_counts']\n",
    "adata_atac_test.X = adata_atac_test.layers['row_counts']\n",
    "\n",
    "mdata_test = mu.MuData({'rna':adata_rna_test,'atac':adata_atac_test})\n",
    "mdata_test.write_h5mu('/stor/lep/data/BABEL/test.h5mu')\n",
    "mdata_test"
   ]
  },
  {
   "cell_type": "code",
   "execution_count": 106,
   "metadata": {},
   "outputs": [
    {
     "name": "stderr",
     "output_type": "stream",
     "text": [
      "/home/lep/miniconda3/envs/mm-diffusion/lib/python3.8/site-packages/mudata/_core/mudata.py:578: FutureWarning: In a future version, `df.iloc[:, i] = newvals` will attempt to set the values inplace instead of always setting a new array. To retain the old behavior, use either `df[df.columns[i]] = newvals` or, if columns are non-unique, `df.isetitem(i, newvals)`\n",
      "  data_mod.loc[:, colname] = col\n",
      "/home/lep/miniconda3/envs/mm-diffusion/lib/python3.8/site-packages/mudata/_core/mudata.py:578: FutureWarning: In a future version, `df.iloc[:, i] = newvals` will attempt to set the values inplace instead of always setting a new array. To retain the old behavior, use either `df[df.columns[i]] = newvals` or, if columns are non-unique, `df.isetitem(i, newvals)`\n",
      "  data_mod.loc[:, colname] = col\n"
     ]
    },
    {
     "data": {
      "text/html": [
       "<pre>MuData object with n_obs × n_vars = 7095 × 258758\n",
       "  var:\t&#x27;chrom&#x27;, &#x27;n_counts&#x27;, &#x27;log1p_counts&#x27;, &#x27;n_cells&#x27;\n",
       "  2 modalities\n",
       "    rna:\t7095 x 34861\n",
       "      obs:\t&#x27;batch&#x27;, &#x27;source_file&#x27;, &#x27;n_counts&#x27;, &#x27;log1p_counts&#x27;, &#x27;n_genes&#x27;, &#x27;size_factors&#x27;, &#x27;leiden&#x27;\n",
       "      var:\t&#x27;chrom&#x27;, &#x27;n_counts&#x27;, &#x27;log1p_counts&#x27;, &#x27;n_cells&#x27;\n",
       "      uns:\t&#x27;median_counts&#x27;\n",
       "      layers:\t&#x27;row_counts&#x27;\n",
       "    atac:\t7095 x 223897\n",
       "      obs:\t&#x27;batch&#x27;, &#x27;source_file&#x27;, &#x27;n_counts&#x27;, &#x27;log1p_counts&#x27;, &#x27;n_genes&#x27;, &#x27;size_factors&#x27;, &#x27;leiden&#x27;\n",
       "      var:\t&#x27;chrom&#x27;, &#x27;n_counts&#x27;, &#x27;log1p_counts&#x27;, &#x27;n_cells&#x27;\n",
       "      uns:\t&#x27;median_counts&#x27;\n",
       "      layers:\t&#x27;row_counts&#x27;</pre>"
      ],
      "text/plain": [
       "MuData object with n_obs × n_vars = 7095 × 258758\n",
       "  var:\t'chrom', 'n_counts', 'log1p_counts', 'n_cells'\n",
       "  2 modalities\n",
       "    rna:\t7095 x 34861\n",
       "      obs:\t'batch', 'source_file', 'n_counts', 'log1p_counts', 'n_genes', 'size_factors', 'leiden'\n",
       "      var:\t'chrom', 'n_counts', 'log1p_counts', 'n_cells'\n",
       "      uns:\t'median_counts'\n",
       "      layers:\t'row_counts'\n",
       "    atac:\t7095 x 223897\n",
       "      obs:\t'batch', 'source_file', 'n_counts', 'log1p_counts', 'n_genes', 'size_factors', 'leiden'\n",
       "      var:\t'chrom', 'n_counts', 'log1p_counts', 'n_cells'\n",
       "      uns:\t'median_counts'\n",
       "      layers:\t'row_counts'"
      ]
     },
     "execution_count": 106,
     "metadata": {},
     "output_type": "execute_result"
    }
   ],
   "source": [
    "adata_rna_test = sc.read_h5ad('/stor/lep/workspace/multi_diffusion/my_model/12878_rna.h5ad')\n",
    "adata_rna_test.X = adata_rna_test.layers['row_counts']\n",
    "adata_rna_test.obs['leiden'] = '33'\n",
    "adata_rna_test.obs['leiden'] = pd.Categorical(adata_rna_test.obs['leiden'])\n",
    "adata_atac_test = sc.read_h5ad('/stor/lep/workspace/multi_diffusion/my_model/12878_atac.h5ad')\n",
    "adata_atac_test.X = adata_atac_test.layers['row_counts']\n",
    "adata_atac_test.obs['leiden'] = '33'\n",
    "adata_atac_test.obs['leiden'] = pd.Categorical(adata_atac_test.obs['leiden'])\n",
    "\n",
    "mdata_test = mu.MuData({'rna':adata_rna_test,'atac':adata_atac_test})\n",
    "mdata_test.write_h5mu('/stor/lep/data/BABEL/12878.h5mu')\n",
    "mdata_test"
   ]
  },
  {
   "cell_type": "code",
   "execution_count": 117,
   "metadata": {},
   "outputs": [
    {
     "name": "stderr",
     "output_type": "stream",
     "text": [
      "/home/lep/miniconda3/envs/mm-diffusion/lib/python3.8/site-packages/anndata/_core/merge.py:942: UserWarning: Only some AnnData objects have `.raw` attribute, not concatenating `.raw` attributes.\n",
      "  warn(\n",
      "/home/lep/miniconda3/envs/mm-diffusion/lib/python3.8/site-packages/mudata/_core/mudata.py:578: FutureWarning: In a future version, `df.iloc[:, i] = newvals` will attempt to set the values inplace instead of always setting a new array. To retain the old behavior, use either `df[df.columns[i]] = newvals` or, if columns are non-unique, `df.isetitem(i, newvals)`\n",
      "  data_mod.loc[:, colname] = col\n",
      "/home/lep/miniconda3/envs/mm-diffusion/lib/python3.8/site-packages/mudata/_core/mudata.py:578: FutureWarning: In a future version, `df.iloc[:, i] = newvals` will attempt to set the values inplace instead of always setting a new array. To retain the old behavior, use either `df[df.columns[i]] = newvals` or, if columns are non-unique, `df.isetitem(i, newvals)`\n",
      "  data_mod.loc[:, colname] = col\n"
     ]
    }
   ],
   "source": [
    "adata_rna_all = ad.concat((adata_rna_train,adata_rna_valid, adata_rna_test),label='split')\n",
    "adata_atac_all = ad.concat((adata_atac_train,adata_atac_valid, adata_atac_test),label='split')\n",
    "# adata_rna_all.obs['leiden'] = pd.Categorical(adata_rna_all.obs['leiden'])\n",
    "# adata_atac_all.obs['leiden'] = pd.Categorical(adata_atac_all.obs['leiden'])\n",
    "\n",
    "mdata_all = mu.MuData({'rna':adata_rna_all,'atac':adata_atac_all})\n",
    "mdata_all.write_h5mu('/stor/lep/data/BABEL/all_wtest.h5mu')"
   ]
  },
  {
   "cell_type": "code",
   "execution_count": null,
   "metadata": {},
   "outputs": [],
   "source": [
    "import muon as mu\n",
    "mdata = mu.read_h5mu('path/to/h5mu/data')\n",
    "print(mdata)\n",
    "\n",
    "rna_data = mdata['rna'].X.toarray()\n",
    "atac_data = mdata['atac'].X.toarray()\n",
    "\n",
    "# the meta information can be find in mdata['rna'].obs\n",
    "other_meta_info = mdata['rna'].obs['the/meta/info/you/want']"
   ]
  }
 ],
 "metadata": {
  "kernelspec": {
   "display_name": "mm-diffusion",
   "language": "python",
   "name": "python3"
  },
  "language_info": {
   "codemirror_mode": {
    "name": "ipython",
    "version": 3
   },
   "file_extension": ".py",
   "mimetype": "text/x-python",
   "name": "python",
   "nbconvert_exporter": "python",
   "pygments_lexer": "ipython3",
   "version": "3.8.13"
  }
 },
 "nbformat": 4,
 "nbformat_minor": 2
}
